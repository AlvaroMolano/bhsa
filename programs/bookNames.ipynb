{
 "cells": [
  {
   "cell_type": "markdown",
   "metadata": {},
   "source": [
    "<img align=\"right\" src=\"images/dans-small.png\"/>\n",
    "<img align=\"right\" src=\"images/tf-small.png\"/>\n",
    "<img align=\"right\" src=\"images/etcbc.png\"/>\n",
    "\n",
    "\n",
    "# Booknames (multilingual)\n",
    "\n",
    "This notebook adds multilingual book names to a \n",
    "[BHSA](https://github.com/ETCBC/bhsa) dataset in\n",
    "[text-Fabric](https://github.com/Dans-labs/text-fabric)\n",
    "format.\n",
    "\n",
    "## Discussion\n",
    "\n",
    "We add the features\n",
    "`book@`*iso*\n",
    "where *iso* is a\n",
    "[two letter ISO-639](https://en.wikipedia.org/wiki/List_of_ISO_639-1_codes)\n",
    "language code of a modern language.\n",
    "We use a source file `blang.py` that contains the names of the books of the bible\n",
    "in modern languages (around 20, most big languages are covered).\n",
    "This data has been gleaned mostly from Wikipedia.\n",
    "\n",
    "We assume that the dataset has the `book` feature present, holding *Latin* book names.\n",
    "\n",
    "This program works for all datasets and versions that have this feature with the\n",
    "intended meaning."
   ]
  },
  {
   "cell_type": "code",
   "execution_count": 12,
   "metadata": {
    "collapsed": true,
    "scrolled": false
   },
   "outputs": [],
   "source": [
    "import os,sys,re,collections\n",
    "import utils\n",
    "from tf.fabric import Fabric\n",
    "from blang import bookLangs, bookNames"
   ]
  },
  {
   "cell_type": "markdown",
   "metadata": {},
   "source": [
    "# Pipeline\n",
    "See [operation](https://github.com/ETCBC/pipeline/blob/master/README.md#operation) \n",
    "for how to run this script in the pipeline."
   ]
  },
  {
   "cell_type": "code",
   "execution_count": 13,
   "metadata": {
    "collapsed": true,
    "scrolled": false
   },
   "outputs": [],
   "source": [
    "if 'SCRIPT' not in locals():\n",
    "    SCRIPT = False\n",
    "    FORCE = True\n",
    "    CORE_NAME = 'bhsa'\n",
    "    VERSION= 'c'\n",
    "\n",
    "def stop(good=False):\n",
    "    if SCRIPT: sys.exit(0 if good else 1)"
   ]
  },
  {
   "cell_type": "markdown",
   "metadata": {},
   "source": [
    "# Setting up the context: source file and target directories\n",
    "\n",
    "The conversion is executed in an environment of directories, so that sources, temp files and\n",
    "results are in convenient places and do not have to be shifted around."
   ]
  },
  {
   "cell_type": "code",
   "execution_count": 14,
   "metadata": {
    "collapsed": true,
    "scrolled": false
   },
   "outputs": [],
   "source": [
    "repoBase = os.path.expanduser('~/github/etcbc')\n",
    "thisRepo = '{}/{}'.format(repoBase, CORE_NAME)\n",
    "\n",
    "thisTemp = '{}/_temp/{}'.format(thisRepo, VERSION)\n",
    "thisTempTf = '{}/tf'.format(thisTemp)\n",
    "\n",
    "thisTf = '{}/tf/{}'.format(thisRepo, VERSION)"
   ]
  },
  {
   "cell_type": "markdown",
   "metadata": {},
   "source": [
    "# Collect\n",
    "\n",
    "We collect the book names."
   ]
  },
  {
   "cell_type": "code",
   "execution_count": 15,
   "metadata": {},
   "outputs": [
    {
     "name": "stdout",
     "output_type": "stream",
     "text": [
      "..............................................................................................\n",
      ".     10m 29s Book names                                                                     .\n",
      "..............................................................................................\n",
      "|     10m 29s 26 languages ...\n"
     ]
    }
   ],
   "source": [
    "utils.caption(4, 'Book names')\n",
    "\n",
    "metaData={\n",
    "    '': dict(\n",
    "            dataset='BHSA',\n",
    "            version=VERSION,\n",
    "            datasetName='Biblia Hebraica Stuttgartensia Amstelodamensis',\n",
    "            author='Eep Talstra Centre for Bible and Computer',\n",
    "            provenance='book names from wikipedia and other sources',\n",
    "            encoders='Dirk Roorda (TF)',\n",
    "            website='https://shebanq.ancient-data.org',\n",
    "            email='shebanq@ancient-data.org',\n",
    "        ),\n",
    "}\n",
    "\n",
    "for (langCode, (langEnglish, langName)) in bookLangs.items():\n",
    "    metaData['book@{}'.format(langCode)] = {\n",
    "        'valueType': 'str',\n",
    "        'language': langName,\n",
    "        'languageCode': langCode,\n",
    "        'languageEnglish': langEnglish,\n",
    "    }\n",
    "\n",
    "newFeatures = sorted(m for m in metaData if m != '')\n",
    "newFeaturesStr = ' '.join(newFeatures)\n",
    "\n",
    "utils.caption(0, '{} languages ...'.format(len(newFeatures)))"
   ]
  },
  {
   "cell_type": "markdown",
   "metadata": {},
   "source": [
    "# Test\n",
    "\n",
    "Check whether this conversion is needed in the first place.\n",
    "Only when run as a script."
   ]
  },
  {
   "cell_type": "code",
   "execution_count": 16,
   "metadata": {
    "collapsed": true
   },
   "outputs": [],
   "source": [
    "if SCRIPT:\n",
    "    (good, work) = utils.mustRun(None, '{}/.tf/{}.tfx'.format(thisTf, newFeatures[0]), force=FORCE)\n",
    "    if not good: stop(good=False)\n",
    "    if not work: stop(good=True)"
   ]
  },
  {
   "cell_type": "markdown",
   "metadata": {},
   "source": [
    "# Load existing data"
   ]
  },
  {
   "cell_type": "code",
   "execution_count": 17,
   "metadata": {},
   "outputs": [
    {
     "name": "stdout",
     "output_type": "stream",
     "text": [
      "..............................................................................................\n",
      ".     10m 29s Loading relevant features                                                      .\n",
      "..............................................................................................\n",
      "This is Text-Fabric 3.0.2\n",
      "Api reference : https://github.com/Dans-labs/text-fabric/wiki/Api\n",
      "Tutorial      : https://github.com/Dans-labs/text-fabric/blob/master/docs/tutorial.ipynb\n",
      "Example data  : https://github.com/Dans-labs/text-fabric-data\n",
      "\n",
      "69 features found and 0 ignored\n",
      "  0.00s loading features ...\n",
      "   |     0.01s B book                 from /Users/dirk/github/etcbc/bhsa/tf/c\n",
      "   |     0.00s Feature overview: 64 for nodes; 4 for edges; 1 configs; 7 computed\n",
      "  4.14s All features loaded/computed - for details use loadLog()\n",
      "|     10m 33s 26 book name features created\n"
     ]
    }
   ],
   "source": [
    "utils.caption(4, 'Loading relevant features')\n",
    "\n",
    "TF = Fabric(locations=thisTf, modules=[''])\n",
    "api = TF.load('book')\n",
    "api.makeAvailableIn(globals())\n",
    "\n",
    "nodeFeatures = {}\n",
    "nodeFeatures['book@la'] = {}\n",
    "\n",
    "bookNodes = []\n",
    "for b in F.otype.s('book'):\n",
    "    bookNodes.append(b)\n",
    "    nodeFeatures['book@la'][b] = F.book.v(b)\n",
    "\n",
    "for (langCode, langBookNames) in bookNames.items():\n",
    "    nodeFeatures['book@{}'.format(langCode)] = dict(zip(bookNodes, langBookNames))\n",
    "utils.caption(0, '{} book name features created'.format(len(nodeFeatures)))"
   ]
  },
  {
   "cell_type": "markdown",
   "metadata": {},
   "source": [
    "# Write new features"
   ]
  },
  {
   "cell_type": "code",
   "execution_count": 18,
   "metadata": {},
   "outputs": [
    {
     "name": "stdout",
     "output_type": "stream",
     "text": [
      "..............................................................................................\n",
      ".     10m 33s Write book name features as TF                                                 .\n",
      "..............................................................................................\n",
      "   |     0.00s T book@am              to /Users/dirk/github/etcbc/bhsa/_temp/c/tf\n",
      "   |     0.00s T book@ar              to /Users/dirk/github/etcbc/bhsa/_temp/c/tf\n",
      "   |     0.00s T book@bn              to /Users/dirk/github/etcbc/bhsa/_temp/c/tf\n",
      "   |     0.00s T book@da              to /Users/dirk/github/etcbc/bhsa/_temp/c/tf\n",
      "   |     0.00s T book@de              to /Users/dirk/github/etcbc/bhsa/_temp/c/tf\n",
      "   |     0.00s T book@el              to /Users/dirk/github/etcbc/bhsa/_temp/c/tf\n",
      "   |     0.00s T book@en              to /Users/dirk/github/etcbc/bhsa/_temp/c/tf\n",
      "   |     0.00s T book@es              to /Users/dirk/github/etcbc/bhsa/_temp/c/tf\n",
      "   |     0.00s T book@fa              to /Users/dirk/github/etcbc/bhsa/_temp/c/tf\n",
      "   |     0.00s T book@fr              to /Users/dirk/github/etcbc/bhsa/_temp/c/tf\n",
      "   |     0.00s T book@he              to /Users/dirk/github/etcbc/bhsa/_temp/c/tf\n",
      "   |     0.00s T book@hi              to /Users/dirk/github/etcbc/bhsa/_temp/c/tf\n",
      "   |     0.00s T book@id              to /Users/dirk/github/etcbc/bhsa/_temp/c/tf\n",
      "   |     0.00s T book@ja              to /Users/dirk/github/etcbc/bhsa/_temp/c/tf\n",
      "   |     0.00s T book@ko              to /Users/dirk/github/etcbc/bhsa/_temp/c/tf\n",
      "   |     0.00s T book@la              to /Users/dirk/github/etcbc/bhsa/_temp/c/tf\n",
      "   |     0.00s T book@nl              to /Users/dirk/github/etcbc/bhsa/_temp/c/tf\n",
      "   |     0.00s T book@pa              to /Users/dirk/github/etcbc/bhsa/_temp/c/tf\n",
      "   |     0.00s T book@pt              to /Users/dirk/github/etcbc/bhsa/_temp/c/tf\n",
      "   |     0.00s T book@ru              to /Users/dirk/github/etcbc/bhsa/_temp/c/tf\n",
      "   |     0.00s T book@sw              to /Users/dirk/github/etcbc/bhsa/_temp/c/tf\n",
      "   |     0.00s T book@syc             to /Users/dirk/github/etcbc/bhsa/_temp/c/tf\n",
      "   |     0.00s T book@tr              to /Users/dirk/github/etcbc/bhsa/_temp/c/tf\n",
      "   |     0.00s T book@ur              to /Users/dirk/github/etcbc/bhsa/_temp/c/tf\n",
      "   |     0.00s T book@yo              to /Users/dirk/github/etcbc/bhsa/_temp/c/tf\n",
      "   |     0.00s T book@zh              to /Users/dirk/github/etcbc/bhsa/_temp/c/tf\n"
     ]
    }
   ],
   "source": [
    "utils.caption(4, 'Write book name features as TF')\n",
    "TF = Fabric(locations=thisTempTf, silent=True)\n",
    "TF.save(nodeFeatures=nodeFeatures, edgeFeatures={}, metaData=metaData)"
   ]
  },
  {
   "cell_type": "markdown",
   "metadata": {},
   "source": [
    "# Diffs\n",
    "\n",
    "Check differences with previous versions."
   ]
  },
  {
   "cell_type": "code",
   "execution_count": 19,
   "metadata": {},
   "outputs": [
    {
     "name": "stdout",
     "output_type": "stream",
     "text": [
      "..............................................................................................\n",
      ".     10m 33s Check differences with previous version                                        .\n",
      "..............................................................................................\n",
      "|     10m 33s \t26 features to add\n",
      "|     10m 33s \t\tbook@am\n",
      "|     10m 33s \t\tbook@ar\n",
      "|     10m 33s \t\tbook@bn\n",
      "|     10m 33s \t\tbook@da\n",
      "|     10m 33s \t\tbook@de\n",
      "|     10m 33s \t\tbook@el\n",
      "|     10m 33s \t\tbook@en\n",
      "|     10m 33s \t\tbook@es\n",
      "|     10m 33s \t\tbook@fa\n",
      "|     10m 33s \t\tbook@fr\n",
      "|     10m 33s \t\tbook@he\n",
      "|     10m 33s \t\tbook@hi\n",
      "|     10m 33s \t\tbook@id\n",
      "|     10m 33s \t\tbook@ja\n",
      "|     10m 33s \t\tbook@ko\n",
      "|     10m 33s \t\tbook@la\n",
      "|     10m 33s \t\tbook@nl\n",
      "|     10m 33s \t\tbook@pa\n",
      "|     10m 33s \t\tbook@pt\n",
      "|     10m 33s \t\tbook@ru\n",
      "|     10m 33s \t\tbook@sw\n",
      "|     10m 33s \t\tbook@syc\n",
      "|     10m 33s \t\tbook@tr\n",
      "|     10m 33s \t\tbook@ur\n",
      "|     10m 33s \t\tbook@yo\n",
      "|     10m 33s \t\tbook@zh\n",
      "|     10m 33s \tno features to delete\n",
      "|     10m 33s \t0 features in common\n",
      "|     10m 33s Done\n"
     ]
    }
   ],
   "source": [
    "utils.checkDiffs(thisTempTf, thisTf, only=set(newFeatures))"
   ]
  },
  {
   "cell_type": "markdown",
   "metadata": {},
   "source": [
    "# Deliver \n",
    "\n",
    "Copy the new Text-Fabric features from the temporary location where they have been created to their final destination."
   ]
  },
  {
   "cell_type": "code",
   "execution_count": 20,
   "metadata": {},
   "outputs": [
    {
     "name": "stdout",
     "output_type": "stream",
     "text": [
      "..............................................................................................\n",
      ".     10m 33s Deliver features to /Users/dirk/github/etcbc/bhsa/tf/c                         .\n",
      "..............................................................................................\n",
      "|     10m 33s \tbook@am\n",
      "|     10m 33s \tbook@ar\n",
      "|     10m 33s \tbook@bn\n",
      "|     10m 33s \tbook@da\n",
      "|     10m 33s \tbook@de\n",
      "|     10m 33s \tbook@el\n",
      "|     10m 33s \tbook@en\n",
      "|     10m 33s \tbook@es\n",
      "|     10m 33s \tbook@fa\n",
      "|     10m 33s \tbook@fr\n",
      "|     10m 33s \tbook@he\n",
      "|     10m 33s \tbook@hi\n",
      "|     10m 33s \tbook@id\n",
      "|     10m 33s \tbook@ja\n",
      "|     10m 33s \tbook@ko\n",
      "|     10m 33s \tbook@la\n",
      "|     10m 33s \tbook@nl\n",
      "|     10m 33s \tbook@pa\n",
      "|     10m 33s \tbook@pt\n",
      "|     10m 33s \tbook@ru\n",
      "|     10m 33s \tbook@sw\n",
      "|     10m 33s \tbook@syc\n",
      "|     10m 33s \tbook@tr\n",
      "|     10m 33s \tbook@ur\n",
      "|     10m 33s \tbook@yo\n",
      "|     10m 33s \tbook@zh\n"
     ]
    }
   ],
   "source": [
    "utils.deliverFeatures(thisTempTf, thisTf, newFeatures)"
   ]
  },
  {
   "cell_type": "markdown",
   "metadata": {},
   "source": [
    "# Compile TF"
   ]
  },
  {
   "cell_type": "code",
   "execution_count": 21,
   "metadata": {},
   "outputs": [
    {
     "name": "stdout",
     "output_type": "stream",
     "text": [
      "..............................................................................................\n",
      ".     10m 33s Load and compile the new TF features                                           .\n",
      "..............................................................................................\n",
      "This is Text-Fabric 3.0.2\n",
      "Api reference : https://github.com/Dans-labs/text-fabric/wiki/Api\n",
      "Tutorial      : https://github.com/Dans-labs/text-fabric/blob/master/docs/tutorial.ipynb\n",
      "Example data  : https://github.com/Dans-labs/text-fabric-data\n",
      "\n",
      "95 features found and 0 ignored\n",
      "  0.00s loading features ...\n",
      "   |     0.00s T book@am              from /Users/dirk/github/etcbc/bhsa/tf/c\n",
      "   |     0.00s T book@ar              from /Users/dirk/github/etcbc/bhsa/tf/c\n",
      "   |     0.00s T book@bn              from /Users/dirk/github/etcbc/bhsa/tf/c\n",
      "   |     0.00s T book@da              from /Users/dirk/github/etcbc/bhsa/tf/c\n",
      "   |     0.00s T book@de              from /Users/dirk/github/etcbc/bhsa/tf/c\n",
      "   |     0.00s T book@el              from /Users/dirk/github/etcbc/bhsa/tf/c\n",
      "   |     0.00s T book@en              from /Users/dirk/github/etcbc/bhsa/tf/c\n",
      "   |     0.00s T book@es              from /Users/dirk/github/etcbc/bhsa/tf/c\n",
      "   |     0.00s T book@fa              from /Users/dirk/github/etcbc/bhsa/tf/c\n",
      "   |     0.00s T book@fr              from /Users/dirk/github/etcbc/bhsa/tf/c\n",
      "   |     0.00s T book@he              from /Users/dirk/github/etcbc/bhsa/tf/c\n",
      "   |     0.01s T book@hi              from /Users/dirk/github/etcbc/bhsa/tf/c\n",
      "   |     0.00s T book@id              from /Users/dirk/github/etcbc/bhsa/tf/c\n",
      "   |     0.00s T book@ja              from /Users/dirk/github/etcbc/bhsa/tf/c\n",
      "   |     0.00s T book@ko              from /Users/dirk/github/etcbc/bhsa/tf/c\n",
      "   |     0.00s T book@la              from /Users/dirk/github/etcbc/bhsa/tf/c\n",
      "   |     0.00s T book@nl              from /Users/dirk/github/etcbc/bhsa/tf/c\n",
      "   |     0.00s T book@pa              from /Users/dirk/github/etcbc/bhsa/tf/c\n",
      "   |     0.00s T book@pt              from /Users/dirk/github/etcbc/bhsa/tf/c\n",
      "   |     0.00s T book@ru              from /Users/dirk/github/etcbc/bhsa/tf/c\n",
      "   |     0.00s T book@sw              from /Users/dirk/github/etcbc/bhsa/tf/c\n",
      "   |     0.00s T book@syc             from /Users/dirk/github/etcbc/bhsa/tf/c\n",
      "   |     0.00s T book@tr              from /Users/dirk/github/etcbc/bhsa/tf/c\n",
      "   |     0.00s T book@ur              from /Users/dirk/github/etcbc/bhsa/tf/c\n",
      "   |     0.00s T book@yo              from /Users/dirk/github/etcbc/bhsa/tf/c\n",
      "   |     0.00s T book@zh              from /Users/dirk/github/etcbc/bhsa/tf/c\n",
      "   |     0.00s Feature overview: 90 for nodes; 4 for edges; 1 configs; 7 computed\n",
      "  6.23s All features loaded/computed - for details use loadLog()\n"
     ]
    }
   ],
   "source": [
    "utils.caption(4, 'Load and compile the new TF features')\n",
    "\n",
    "TF = Fabric(locations=thisTf, modules=[''])\n",
    "api = TF.load('')\n",
    "api.makeAvailableIn(globals())"
   ]
  },
  {
   "cell_type": "markdown",
   "metadata": {},
   "source": [
    "# Examples"
   ]
  },
  {
   "cell_type": "code",
   "execution_count": 22,
   "metadata": {
    "scrolled": false
   },
   "outputs": [
    {
     "name": "stdout",
     "output_type": "stream",
     "text": [
      "..............................................................................................\n",
      ".     10m 39s Genesis in all languages                                                       .\n",
      "..............................................................................................\n",
      "|     10m 39s am = amharic              Genesis is ኦሪት_ዘፍጥረት            in ኣማርኛ                \n",
      "|     10m 39s ar = arabic               Genesis is تكوين                in العَرَبِية          \n",
      "|     10m 39s bn = bengali              Genesis is আদিপুস্তক            in বাংলা               \n",
      "|     10m 39s da = danish               Genesis is 1.Mosebog            in Dansk               \n",
      "|     10m 39s de = german               Genesis is Genesis              in Deutsch             \n",
      "|     10m 39s el = greek                Genesis is Γένεση               in Ελληνικά            \n",
      "|     10m 39s en = english              Genesis is Genesis              in English             \n",
      "|     10m 39s es = spanish              Genesis is Génesis              in Español             \n",
      "|     10m 39s fa = farsi                Genesis is پيدايش               in فارسی               \n",
      "|     10m 39s fr = french               Genesis is Genèse               in Français            \n",
      "|     10m 39s he = hebrew               Genesis is בראשית               in עברית               \n",
      "|     10m 39s hi = hindi                Genesis is उत्पाति              in हिन्दी              \n",
      "|     10m 39s id = indonesian           Genesis is Kejadian             in Bahasa Indonesia    \n",
      "|     10m 39s ja = japanese             Genesis is 創世記                  in 日本語                 \n",
      "|     10m 39s ko = korean               Genesis is 창세기                  in 한국어                 \n",
      "|     10m 39s la = latin                Genesis is Genesis              in Latina              \n",
      "|     10m 40s nl = dutch                Genesis is Genesis              in Nederlands          \n",
      "|     10m 40s pa = punjabi              Genesis is ਉਤਪਤ                 in ਪੰਜਾਬੀ              \n",
      "|     10m 40s pt = portuguese           Genesis is Gênesis              in Português           \n",
      "|     10m 40s ru = russian              Genesis is Бытия                in Русский             \n",
      "|     10m 40s sw = swahili              Genesis is Mwanzo               in Kiswahili           \n",
      "|     10m 40s syc = syriac               Genesis is ܒܪܝܬܐ                in ܠܫܢܐ ܣܘܪܝܝܐ         \n",
      "|     10m 40s tr = turkish              Genesis is Yaratılış            in Türkçe              \n",
      "|     10m 40s ur = urdu                 Genesis is پیدائش               in اُردُو              \n",
      "|     10m 40s yo = yoruba               Genesis is Genesisi             in èdè Yorùbá          \n",
      "|     10m 40s zh = chinese              Genesis is 创世记                  in 中文                  \n",
      "|     10m 40s Done\n"
     ]
    }
   ],
   "source": [
    "utils.caption(4, 'Genesis in all languages')\n",
    "genesisNode = F.otype.s('book')[0]\n",
    "\n",
    "for (lang, langInfo) in sorted(T.languages.items()):\n",
    "    language = langInfo['language']\n",
    "    langEng = langInfo['languageEnglish']\n",
    "    book = T.sectionFromNode(genesisNode, lang=lang)[0]\n",
    "    utils.caption(0, '{:<2} = {:<20} Genesis is {:<20} in {:<20}'.format(lang, langEng, book, language))\n",
    "\n",
    "utils.caption(0, 'Done')"
   ]
  },
  {
   "cell_type": "code",
   "execution_count": null,
   "metadata": {
    "collapsed": true
   },
   "outputs": [],
   "source": []
  }
 ],
 "metadata": {
  "kernelspec": {
   "display_name": "Python 3",
   "language": "python",
   "name": "python3"
  },
  "language_info": {
   "codemirror_mode": {
    "name": "ipython",
    "version": 3
   },
   "file_extension": ".py",
   "mimetype": "text/x-python",
   "name": "python",
   "nbconvert_exporter": "python",
   "pygments_lexer": "ipython3",
   "version": "3.6.2"
  }
 },
 "nbformat": 4,
 "nbformat_minor": 2
}
