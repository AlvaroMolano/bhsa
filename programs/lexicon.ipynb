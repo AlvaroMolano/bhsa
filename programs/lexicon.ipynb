{
 "cells": [
  {
   "cell_type": "markdown",
   "metadata": {},
   "source": [
    "<img align=\"right\" src=\"tf-small.png\"/>\n",
    "\n",
    "# Lexicon\n",
    "\n",
    "This notebook can read lexicon info in files issued by the etcbc and transform them \n",
    "into new features.\n",
    "There will be new features at the word level and a new level will be made: lexeme.\n",
    "\n",
    "Most lexical features do not go to the word nodes but to the lexeme nodes.\n",
    "\n",
    "**NB** This conversion will not work for versions `4` and `4b`.\n",
    "\n",
    "## Discussion\n",
    "There are several issues that we deal with here.\n",
    "\n",
    "Language: are an Aramaic lexeme and a Hebrew lexeme with the same value identical?\n",
    "In short: no.\n",
    "\n",
    "The lexicon is a piece of data not conceptually contained in the text.\n",
    "So where do we leave that data?\n",
    "\n",
    "The lexicon contains information about lexemes. Some of that information is also present\n",
    "on individual occurrences. \n",
    "The question arises, should a lexical feature have consistent values across its occurrences.\n",
    "\n",
    "And of course: does the lexicon *match* the text?\n",
    "Do all lexemes in the text have a lexical entry, and does every lexical entry have actual\n",
    "occurrences in the text?\n",
    "\n",
    "### Lexeme language\n",
    "Lexemes do not cross languages, so the set of Aramaic and Hebrew lexemes are disjoint.\n",
    "Whenever we index lexemes, we have to specify it as a pair of its language and lex values.\n",
    "\n",
    "### Lexeme node type\n",
    "The answer where to leave the lexical information in a text-fabric data set is surprisingly simple:\n",
    "on nodes of a new type `lex`.\n",
    "Nodes of type lex will be connected via the `oslots` feature to all its occurrences, so lexemes *contain* there\n",
    "occurrences.\n",
    "All features encountered in the lexicon, we will store on these `lex` nodes.\n",
    "\n",
    "### Lexical consistency\n",
    "It is quite possible that some occurrences have got a different value for a lexical feature than its lexeme.\n",
    "A trivial case are adjectives, whose lexical gender is `NA`, but whose occurrences usually have a distinct gender.\n",
    "\n",
    "Other features really should be fully consistent, for example the *vocalized lexeme*.\n",
    "We encounter this feature in the text (`g_voc_lex` and also its hebrew version `g_voc_lex_utf8`), \n",
    "and in the lexicon it is present as feature `vc`.\n",
    "In this case we observe a deficiency in the lexicon: `vc` is often absent.\n",
    "Apart from that, the textual features `g_voc_lex` and `g_voc_lex_utf8` are fully consistent, so I take their values\n",
    "and put them in the lexicon, and I remove the `g_voc_lex` and `g_voc_lex_utf8` from the dataset.\n",
    "\n",
    "## Match between lexicon and text\n",
    "We perform quite a number of checks. \n",
    "The match should be perfect.\n",
    "If not, then quite possible the MQL core data has been exported at an other time the the lexical data.\n",
    "\n",
    "## Varia\n",
    "1. `lex` contains the lexeme (in transcription) with disambiguation marks (`[/=`) appended.\n",
    "   For text transformations we prefer the bare lexeme\n",
    "1. `lex_utf` has frills at the end of many values. \n",
    "   They occur where the final consonant as an alternative form. See analysis below.\n",
    "1. `language` has values `Hebrew` and `Aramaic`. We prefer ISO language codes: `hbo` and `arc` instead.\n",
    "   By adding `language` for lexeme nodes we already have switched to ISO codes. Here we do the rest."
   ]
  },
  {
   "cell_type": "markdown",
   "metadata": {},
   "source": [
    "It seems that some `lex_utf8` values end in an spurious GERESH accents.\n",
    "We are going to remove them."
   ]
  },
  {
   "cell_type": "code",
   "execution_count": 1,
   "metadata": {
    "collapsed": true,
    "scrolled": false
   },
   "outputs": [],
   "source": [
    "import os,sys,re,collections\n",
    "from tf.fabric import Fabric\n",
    "import utils"
   ]
  },
  {
   "cell_type": "markdown",
   "metadata": {},
   "source": [
    "# Pipeline\n",
    "See [operation](https://github.com/ETCBC/pipeline/blob/master/README.md#operation) \n",
    "for how to run this script in the pipeline."
   ]
  },
  {
   "cell_type": "code",
   "execution_count": 2,
   "metadata": {
    "collapsed": true,
    "scrolled": false
   },
   "outputs": [],
   "source": [
    "if 'SCRIPT' not in locals():\n",
    "    SCRIPT = False\n",
    "    FORCE = True\n",
    "    CORE_NAME = 'bhsa'\n",
    "    VERSION= '4'\n",
    "    CORE_MODULE ='core' \n",
    "\n",
    "def stop(good=False):\n",
    "    if SCRIPT: sys.exit(0 if good else 1)"
   ]
  },
  {
   "cell_type": "markdown",
   "metadata": {},
   "source": [
    "# Analysis of lex_utf8\n",
    "\n",
    "Let us focus on a few cases.\n",
    "\n",
    "We translate the utf sequences found in the MQL source into real unicode characters:"
   ]
  },
  {
   "cell_type": "code",
   "execution_count": 3,
   "metadata": {},
   "outputs": [
    {
     "name": "stdout",
     "output_type": "stream",
     "text": [
      "al        : \n",
      "        MQL original   = \\xd7\\xa2\\xd7\\x9c\n",
      "        Unicode        = על\n",
      "        Last char id   =  5dc HEBREW LETTER LAMED\n",
      "        Last char uni  = ל\n",
      "    \n",
      "b         : \n",
      "        MQL original   = \\xd7\\x91\n",
      "        Unicode        = ב\n",
      "        Last char id   =  5d1 HEBREW LETTER BET\n",
      "        Last char uni  = ב\n",
      "    \n",
      "lhjm      : \n",
      "        MQL original   = \\xd7\\x90\\xd7\\x9c\\xd7\\x94\\xd7\\x99\\xd7\\x9d\\xd6\\x9c\n",
      "        Unicode        = אלהים֜\n",
      "        Last char id   =  59c HEBREW ACCENT GERESH\n",
      "        Last char uni  = ֜\n",
      "    \n",
      "rcjt      : \n",
      "        MQL original   = \\xd7\\xa8\\xd7\\x90\\xd7\\xa9\\xd7\\x81\\xd7\\x99\\xd7\\xaa\\xd6\\x9c\n",
      "        Unicode        = ראשׁית֜\n",
      "        Last char id   =  59c HEBREW ACCENT GERESH\n",
      "        Last char uni  = ֜\n",
      "    \n",
      "rcjt_nme  : \n",
      "        MQL original   = \\xd6\\x9c\n",
      "        Unicode        = ֜\n",
      "        Last char id   =  59c HEBREW ACCENT GERESH\n",
      "        Last char uni  = ֜\n",
      "    \n"
     ]
    }
   ],
   "source": [
    "if not SCRIPT:\n",
    "    import unicodedata\n",
    "\n",
    "    uniscan = re.compile(r'(?:\\\\x..)+')\n",
    "\n",
    "    def makeuni(match):\n",
    "        ''' Make proper unicode of a text that contains byte escape codes such as backslash xb6\n",
    "        '''\n",
    "        byts = eval('\"' + match.group(0) + '\"')\n",
    "        return byts.encode('latin1').decode('utf-8')\n",
    "\n",
    "    def uni(line): return uniscan.sub(makeuni, line)\n",
    "\n",
    "    cases = dict(\n",
    "        b = r'\\xd7\\x91',\n",
    "        rcjt = r'\\xd7\\xa8\\xd7\\x90\\xd7\\xa9\\xd7\\x81\\xd7\\x99\\xd7\\xaa\\xd6\\x9c',\n",
    "        rcjt_nme = r'\\xd6\\x9c',\n",
    "        lhjm = r'\\xd7\\x90\\xd7\\x9c\\xd7\\x94\\xd7\\x99\\xd7\\x9d\\xd6\\x9c',\n",
    "        al = r'\\xd7\\xa2\\xd7\\x9c'\n",
    "    )\n",
    "\n",
    "    for (case, utf8) in sorted(cases.items()):\n",
    "        uword = uni(utf8)\n",
    "        uLast = uword[-1]\n",
    "        uCode = ord(uLast)\n",
    "        uName = unicodedata.name(uLast)\n",
    "        print('''{:<10}: \n",
    "        MQL original   = {}\n",
    "        Unicode        = {}\n",
    "        Last char id   = {:>4x} {}\n",
    "        Last char uni  = {}\n",
    "    '''.format(case,\n",
    "            utf8,\n",
    "            uword,\n",
    "            uCode, uName,\n",
    "            uLast,\n",
    "        ))\n"
   ]
  },
  {
   "cell_type": "markdown",
   "metadata": {},
   "source": [
    "# Setting up the context: source file and target directories\n",
    "\n",
    "The conversion is executed in an environment of directories, so that sources, temp files and\n",
    "results are in convenient places and do not have to be shifted around."
   ]
  },
  {
   "cell_type": "code",
   "execution_count": 4,
   "metadata": {
    "collapsed": true,
    "scrolled": false
   },
   "outputs": [],
   "source": [
    "module = CORE_MODULE\n",
    "repoBase = os.path.expanduser('~/github/etcbc')\n",
    "thisRepo = '{}/{}'.format(repoBase, CORE_NAME)\n",
    "\n",
    "thisSource = '{}/source/{}'.format(thisRepo, VERSION)\n",
    "\n",
    "thisTemp = '{}/_temp/{}'.format(thisRepo, VERSION)\n",
    "thisSave = '{}/{}'.format(thisTemp, module)\n",
    "\n",
    "thisTf = '{}/tf/{}'.format(thisRepo, VERSION)\n",
    "thisDeliver = '{}/{}'.format(thisTf, module)"
   ]
  },
  {
   "cell_type": "code",
   "execution_count": 5,
   "metadata": {
    "collapsed": true
   },
   "outputs": [],
   "source": [
    "testFeature = 'lex0'"
   ]
  },
  {
   "cell_type": "markdown",
   "metadata": {},
   "source": [
    "# Test\n",
    "\n",
    "Check whether this conversion is needed in the first place.\n",
    "Only when run as a script."
   ]
  },
  {
   "cell_type": "code",
   "execution_count": 6,
   "metadata": {
    "collapsed": true
   },
   "outputs": [],
   "source": [
    "if SCRIPT:\n",
    "    (good, work) = utils.mustRun(None, '{}/.tf/{}.tfx'.format(thisDeliver, testFeature), force=FORCE)\n",
    "    if not good: stop(good=False)\n",
    "    if not work: stop(good=True)"
   ]
  },
  {
   "cell_type": "markdown",
   "metadata": {},
   "source": [
    "# TF Settings\n",
    "\n",
    "* a piece of metadata that will go into these features; the time will be added automatically\n",
    "* new text formats for the `otext` feature of TF, based on lexical features.\n",
    "  We select the version specific otext material, \n",
    "  falling back on a default if nothing appropriate has been specified in oText.\n",
    "\n",
    "We do not do this for the older versions 4 and 4b."
   ]
  },
  {
   "cell_type": "code",
   "execution_count": 7,
   "metadata": {
    "scrolled": false
   },
   "outputs": [
    {
     "name": "stdout",
     "output_type": "stream",
     "text": [
      "|       0.00s No additional text formats provided\n"
     ]
    }
   ],
   "source": [
    "provenanceMetadata = dict(\n",
    "    dataset='BHSA',\n",
    "    datasetName='Biblia Hebraica Stuttgartensia Amstelodamensis',\n",
    "    author='Eep Talstra Centre for Bible and Computer',\n",
    "    encoders='Constantijn Sikkel (QDF), and Dirk Roorda (TF)',\n",
    "    website='https://shebanq.ancient-data.org',\n",
    "    email='shebanq@ancient-data.org',\n",
    ")\n",
    "\n",
    "lexType = 'lex'\n",
    "\n",
    "doVocalizedLexeme = {\n",
    "    '4': False,\n",
    "    '4b': False,\n",
    "}\n",
    "\n",
    "thisVocalizedLexeme = doVocalizedLexeme.get(VERSION, True)\n",
    "\n",
    "extraOverlap = {\n",
    "    '4': 'gloss nametype',\n",
    "    '4b': 'gloss nametype',\n",
    "}\n",
    "\n",
    "thisExtraOverlap = extraOverlap.get(VERSION, '')\n",
    "\n",
    "oText = {\n",
    "    'c': '''\n",
    "@fmt:lex-trans-plain={lex0} \n",
    "''',\n",
    "    '2016': '''\n",
    "@fmt:lex-trans-plain={lex0} \n",
    "''',\n",
    "}\n",
    "\n",
    "thisOtext = oText.get(VERSION, '')\n",
    "\n",
    "if thisOtext is '':\n",
    "    utils.caption(0, 'No additional text formats provided')\n",
    "    otextInfo = {}\n",
    "else:\n",
    "    utils.caption(0, 'New text formats')\n",
    "    otextInfo = dict(line[1:].split('=', 1) for line in thisOtext.strip('\\n').split('\\n'))\n",
    "    for x in sorted(otextInfo.items()):\n",
    "        utils.caption(0, '{:<30} = \"{}\"'.format(*x))"
   ]
  },
  {
   "cell_type": "markdown",
   "metadata": {},
   "source": [
    "# Stage: Lexicon preparation\n",
    "We add lexical data.\n",
    "The lexical data will not be added as features of words, but as features of lexemes.\n",
    "The lexemes will be added as fresh nodes, of a new type `lex`."
   ]
  },
  {
   "cell_type": "code",
   "execution_count": 8,
   "metadata": {},
   "outputs": [
    {
     "name": "stdout",
     "output_type": "stream",
     "text": [
      "..............................................................................................\n",
      ".       5.93s Load the existing TF dataset                                                   .\n",
      "..............................................................................................\n",
      "This is Text-Fabric 2.3.15\n",
      "Api reference : https://github.com/ETCBC/text-fabric/wiki/Api\n",
      "Tutorial      : https://github.com/ETCBC/text-fabric/blob/master/docs/tutorial.ipynb\n",
      "Data sources  : https://github.com/ETCBC/text-fabric-data\n",
      "Data docs     : https://etcbc.github.io/text-fabric-data\n",
      "Shebanq docs  : https://shebanq.ancient-data.org/text\n",
      "Slack team    : https://shebanq.slack.com/signup\n",
      "Questions? Ask shebanq@ancient-data.org for an invite to Slack\n",
      "101 features found and 0 ignored\n",
      "  0.00s loading features ...\n",
      "   |     0.53s B oslots               from /Users/dirk/github/etcbc/bhsa/tf/4/core\n",
      "   |     0.12s B lex                  from /Users/dirk/github/etcbc/bhsa/tf/4/core\n",
      "   |     0.18s B lex_utf8             from /Users/dirk/github/etcbc/bhsa/tf/4/core\n",
      "   |     0.14s B language             from /Users/dirk/github/etcbc/bhsa/tf/4/core\n",
      "   |     0.15s B sp                   from /Users/dirk/github/etcbc/bhsa/tf/4/core\n",
      "   |     0.15s B ls                   from /Users/dirk/github/etcbc/bhsa/tf/4/core\n",
      "   |     0.11s B gn                   from /Users/dirk/github/etcbc/bhsa/tf/4/core\n",
      "   |     0.14s B ps                   from /Users/dirk/github/etcbc/bhsa/tf/4/core\n",
      "   |     0.14s B nu                   from /Users/dirk/github/etcbc/bhsa/tf/4/core\n",
      "   |     0.13s B st                   from /Users/dirk/github/etcbc/bhsa/tf/4/core\n",
      "   |     0.17s B gloss                from /Users/dirk/github/etcbc/bhsa/tf/4/core\n",
      "   |     0.10s B nametype             from /Users/dirk/github/etcbc/bhsa/tf/4/core\n",
      "   |     0.00s Feature overview: 96 for nodes; 4 for edges; 1 configs; 7 computed\n",
      "  6.30s All features loaded/computed - for details use loadLog()\n"
     ]
    }
   ],
   "source": [
    "utils.caption(4, 'Load the existing TF dataset')\n",
    "TF = Fabric(locations=thisTf, modules=module)\n",
    "vocLex = ' g_voc_lex g_voc_lex_utf8 ' if thisVocalizedLexeme else ''\n",
    "api = TF.load('lex lex_utf8 language sp ls gn ps nu st oslots {} {}'.format(vocLex, thisExtraOverlap))\n",
    "api.makeAvailableIn(globals())"
   ]
  },
  {
   "cell_type": "markdown",
   "metadata": {},
   "source": [
    "# Text pass\n",
    "We map the values in the language feature to standardized iso values: `arc` and `hbo`.\n",
    "We run over all word occurrences, grab the language and lexeme identifier, and create for each\n",
    "unique pair a new lexeme node.\n",
    "\n",
    "We remember the mapping between nodes and lexemes.\n",
    "\n",
    "This stage does not yet involve the lexical files."
   ]
  },
  {
   "cell_type": "code",
   "execution_count": 9,
   "metadata": {},
   "outputs": [
    {
     "name": "stdout",
     "output_type": "stream",
     "text": [
      "..............................................................................................\n",
      ".         16s Collect lexemes from the text                                                  .\n",
      "..............................................................................................\n",
      "|         23s added 9225 lexemes\n",
      "|         23s maxNode is now 1450369\n",
      "|         23s language arc has   707 lexemes in the text\n",
      "|         23s language hbo has  8518 lexemes in the text\n"
     ]
    }
   ],
   "source": [
    "utils.caption(4, 'Collect lexemes from the text')\n",
    "\n",
    "langMap = {\n",
    "    'hbo': 'hbo',\n",
    "    'Hebrew': 'hbo',\n",
    "    'Aramaic': 'arc',\n",
    "    'arc': 'arc',\n",
    "}\n",
    "\n",
    "doValueCompare = {'sp', 'ls', 'gn', 'ps', 'nu', 'st'}\n",
    "\n",
    "lexText = {}\n",
    "\n",
    "maxNode = F.otype.maxNode\n",
    "maxSlot = F.otype.maxSlot\n",
    "slotType = F.otype.slotType\n",
    "\n",
    "lexNode = maxNode\n",
    "lexOccs = {}\n",
    "nodeFromLex = {}\n",
    "lexFromNode = {}\n",
    "otypeData = {}\n",
    "oslotsData = {}\n",
    "\n",
    "for n in F.otype.s('word'):\n",
    "    lex = F.lex.v(n)\n",
    "    lan = langMap[F.language.v(n)]\n",
    "    lexId = (lan, lex)\n",
    "    lexOccs.setdefault(lexId, []).append(n)\n",
    "\n",
    "    for ft in doValueCompare:\n",
    "        val = Fs(ft).v(n)        \n",
    "        lexText.setdefault(lan, {}).setdefault(lex, {}).setdefault(ft, set()).add(val)\n",
    "\n",
    "    if lexId not in nodeFromLex:\n",
    "        lexNode += 1\n",
    "        nodeFromLex[lexId] = lexNode\n",
    "        lexFromNode[lexNode] = lexId\n",
    "\n",
    "for n in range(maxNode+1, lexNode+1):\n",
    "    otypeData[n] = 'lex'\n",
    "    oslotsData[n] = lexOccs[lexFromNode[n]]\n",
    "    \n",
    "utils.caption(0, 'added {} lexemes'.format(len(nodeFromLex)))\n",
    "utils.caption(0, 'maxNode is now {}'.format(lexNode))\n",
    "\n",
    "for lan in sorted(lexText):\n",
    "    utils.caption(0, 'language {} has {:>5} lexemes in the text'.format(lan, len(lexText[lan])))\n",
    "    lexOccs.setdefault(lexId, []).append(n)"
   ]
  },
  {
   "cell_type": "markdown",
   "metadata": {},
   "source": [
    "# Lexicon pass\n",
    "Here we are going to read the lexicons, one for Aramaic, and one for Hebrew."
   ]
  },
  {
   "cell_type": "code",
   "execution_count": 10,
   "metadata": {},
   "outputs": [
    {
     "name": "stdout",
     "output_type": "stream",
     "text": [
      "..............................................................................................\n",
      ".         27s Collect lexeme info from the lexicon                                           .\n",
      "..............................................................................................\n",
      "|         27s Reading lexicon ...\n",
      "|         27s Lexicon arc has   707 entries\n",
      "|         27s Lexicon hbo has  8529 entries\n",
      "|         27s Done\n"
     ]
    }
   ],
   "source": [
    "utils.caption(4, 'Collect lexeme info from the lexicon')\n",
    "\n",
    "langs = set(langMap.values())\n",
    "lexFile = dict((lan, '{}/lexicon_{}.txt'.format(thisSource, lan)) for lan in langs)\n",
    "\n",
    "def readLex(lan):\n",
    "    lexInfile = open(lexFile[lan], encoding='utf-8')\n",
    "    errors = []\n",
    "\n",
    "    lexItems = {}\n",
    "    ln = 0\n",
    "    for line in lexInfile:\n",
    "        ln += 1\n",
    "        line = line.rstrip()\n",
    "        line = line.split('#')[0]\n",
    "        if line == '': continue\n",
    "        (entry, featurestr) = line.split(sep=None, maxsplit=1)\n",
    "        entry = entry.strip('\"')\n",
    "        if entry in lexItems:\n",
    "            errors.append('duplicate lexical entry {} in line {}.\\n'.format(entry, ln))\n",
    "            continue\n",
    "        featurestr = featurestr.strip(':')\n",
    "        featurestr = featurestr.replace('\\\\:', chr(254))\n",
    "        featurelst = featurestr.split(':')\n",
    "        features = {}\n",
    "        for feature in featurelst:\n",
    "            comps = feature.split('=', maxsplit=1)\n",
    "            if len(comps) == 1:\n",
    "                if feature.strip().isnumeric():\n",
    "                    comps = ('_n', feature.strip())\n",
    "                else:\n",
    "                    errors.append('feature without value for lexical entry {} in line {}: {}\\n'.format(\n",
    "                            entry, ln, feature,\n",
    "                    ))\n",
    "                    continue\n",
    "            (key, value) = comps\n",
    "            value = value.replace(chr(254), ':')\n",
    "            if key in features:\n",
    "                errors.append('duplicate feature for lexical entry {} in line {}: {}={}\\n'.format(\n",
    "                        entry, ln, key, value,\n",
    "                ))\n",
    "                continue\n",
    "            features[key] = value.replace('\\\\', '/')\n",
    "        if 'sp' in features and features['sp'] == 'verb':\n",
    "            if 'gl' in features:\n",
    "                gloss = features['gl']\n",
    "                if gloss.startswith('to '):\n",
    "                    features['gl'] = gloss[3:]\n",
    "        lexItems[entry] = features\n",
    "        \n",
    "    lexInfile.close()\n",
    "    nErrors = len(errors)\n",
    "    if len(errors):\n",
    "        utils.caption(0, 'Lexicon [{}]: {} error{}'.format(nErrors, '' if nErrors == 1 else 's'))\n",
    "    return lexItems\n",
    "\n",
    "utils.caption(0, 'Reading lexicon ...')\n",
    "lexEntries = dict((lan, readLex(lan)) for lan in sorted(langs))\n",
    "for lan in sorted(lexEntries):\n",
    "    utils.caption(0, 'Lexicon {} has {:>5} entries'.format(lan, len(lexEntries[lan])))\n",
    "utils.caption(0, 'Done')"
   ]
  },
  {
   "cell_type": "markdown",
   "metadata": {},
   "source": [
    "# Tests\n",
    "\n",
    "## Matching of text and lexicon\n",
    "\n",
    "Let us now check whether all lexemes in the text occur in the lexicon and vice versa."
   ]
  },
  {
   "cell_type": "code",
   "execution_count": 11,
   "metadata": {},
   "outputs": [
    {
     "name": "stdout",
     "output_type": "stream",
     "text": [
      "..............................................................................................\n",
      ".         29s Test - Match between text and lexicon                                          .\n",
      "..............................................................................................\n",
      "|         29s 707 arc lexemes\n",
      "|         29s 8529 hbo lexemes\n",
      "|         29s Equal lex values in hbo and arc in the BHSA   text contains 459 lexemes\n",
      "|         29s Equal lex values in hbo and arc in the lexicon     contains 460 lexemes\n",
      "|         29s Common values in the lexicon but not in the text: 1x: {'>XCDRPN/'}\n",
      "|         29s Common values in the text but not in the lexicon: 0x: set()\n",
      "|         29s arc: lexemes in text but not in lexicon: 0x\n",
      "|         29s arc: lexemes in lexicon but not in text: 0x\n",
      "|         29s hbo: lexemes in text but not in lexicon: 0x\n",
      "|         29s hbo: lexemes in lexicon but not in text: 11x\n",
      "\t<JR_HHRS/, >BVJX/, >XCDRPN/, >XCTRN/, BL<DJ/, BLTJ/, BN_JMJNJ/, MHRH, MQYT/, MRPH/, TPWYH/\n"
     ]
    }
   ],
   "source": [
    "utils.caption(4, 'Test - Match between text and lexicon')\n",
    "\n",
    "arcLex = set(lexEntries['arc'])\n",
    "hboLex = set(lexEntries['hbo'])\n",
    "\n",
    "utils.caption(0, '{} arc lexemes'.format(len(arcLex)))\n",
    "utils.caption(0, '{} hbo lexemes'.format(len(hboLex)))\n",
    "\n",
    "arcText = set(lexText['arc'])\n",
    "hboText = set(lexText['hbo'])\n",
    "\n",
    "hboAndArcText = arcText & hboText\n",
    "hboAndArcLex = arcLex & hboLex\n",
    "\n",
    "lexMinText = hboAndArcLex - hboAndArcText\n",
    "textMinLex = hboAndArcText - hboAndArcLex\n",
    "\n",
    "utils.caption(0, 'Equal lex values in hbo and arc in the BHSA   text contains {} lexemes'.format(len(hboAndArcText)))\n",
    "utils.caption(0, 'Equal lex values in hbo and arc in the lexicon     contains {} lexemes'.format(len(hboAndArcLex)))\n",
    "utils.caption(0, 'Common values in the lexicon but not in the text: {}x: {}'.format(\n",
    "    len(lexMinText), lexMinText)\n",
    ")\n",
    "utils.caption(0, 'Common values in the text but not in the lexicon: {}x: {}'.format(\n",
    "    len(textMinLex), textMinLex)\n",
    ")\n",
    "\n",
    "arcTextMinLex = arcText - arcLex\n",
    "arcLexMinText = arcLex - arcText\n",
    "\n",
    "hboTextMinLex = hboText - hboLex\n",
    "hboLexMinText = hboLex - hboText\n",
    "\n",
    "for (myset, mymsg) in (\n",
    "    (arcTextMinLex, 'arc: lexemes in text but not in lexicon'),\n",
    "    (arcLexMinText, 'arc: lexemes in lexicon but not in text'),\n",
    "    (hboTextMinLex, 'hbo: lexemes in text but not in lexicon'),\n",
    "    (hboLexMinText, 'hbo: lexemes in lexicon but not in text'),\n",
    "):\n",
    "    utils.caption(0, '{}: {}x{}'.format(\n",
    "        mymsg, len(myset), '' if not myset else '\\n\\t{}'.format(', '.join(sorted(myset))),\n",
    "    ))"
   ]
  },
  {
   "cell_type": "markdown",
   "metadata": {},
   "source": [
    "## Consistency of vocalized lexeme\n",
    "\n",
    "The lexicon file provides an attribute `vc` for each lexeme, which is the vocalized lexeme.\n",
    "The ETCBC core data also has features `g_voc_lex` and `g_voc_lex_utf8` for each occurrence.\n",
    "\n",
    "We investigate whether the latter features are *consistent*, i.e. a property of the lexeme and lexeme only.\n",
    "If they are somehow dependent on the word occurrence, they are not consistent.\n",
    "\n",
    "When they are consistent, we can omit them on the occurrences and use them on the lexemes.\n",
    "We'll also check whether the `vc` property found in the lexicon coincides with the `g_voc_lex` on the occurrences.\n",
    "\n",
    "Supposing it is all consistent, we will call the new lexeme features `voc_lex` and `voc_lex_utf8`."
   ]
  },
  {
   "cell_type": "code",
   "execution_count": 13,
   "metadata": {},
   "outputs": [
    {
     "name": "stdout",
     "output_type": "stream",
     "text": [
      "..............................................................................................\n",
      ".         49s Test - Consistency of vocalized lexeme                                         .\n",
      "..............................................................................................\n",
      "|         49s \tSKIPPED in version 4\n"
     ]
    }
   ],
   "source": [
    "utils.caption(4, 'Test - Consistency of vocalized lexeme')\n",
    "\n",
    "if not thisVocalizedLexeme:\n",
    "    utils.caption(0, '\\tSKIPPED in version {}'.format(VERSION))\n",
    "else:\n",
    "    vocFeatures = dict(voc_lex={}, voc_lex_utf8={})\n",
    "\n",
    "    exceptions = dict(incons=dict((f, {}) for f in vocFeatures), deviating=dict())\n",
    "\n",
    "    missing = {}\n",
    "\n",
    "    def showExceptions(cases):\n",
    "        nCases = len(cases)\n",
    "        if nCases == 0:\n",
    "            utils.caption(0, '\\tFully consistent')\n",
    "        else:\n",
    "            utils.caption(0, '\\t{} inconsistent cases'.format(nCases))\n",
    "            limit = 10\n",
    "            for (i, (lan, lex)) in enumerate(cases):\n",
    "                if i == limit:\n",
    "                    utils.caption(0, '\\t\\t...and {} more.'.format(nCases - limit))\n",
    "                    break\n",
    "                utils.caption(0, '\\t\\t{}-{}: {}'.format(lan, lex, ', '.join(sorted(cases[(lan, lex)]))))\n",
    "\n",
    "    for w in F.otype.s('word'):\n",
    "        lan = langMap[F.language.v(w)]\n",
    "        lex = F.lex.v(w)\n",
    "        for (f, values) in vocFeatures.items():\n",
    "            current = values.get((lan, lex), None)\n",
    "            new = Fs('g_{}'.format(f)).v(w)\n",
    "            if current == None:\n",
    "                values[(lan, lex)] = new\n",
    "                if f == 'voc_lex':\n",
    "                    lexical = lexEntries[lan][lex].get('vc', None)\n",
    "                    if lexical == None:\n",
    "                        missing[(lan, lex)] = new\n",
    "                    else:\n",
    "                        if lexical != new: exceptions['deviating'].setdefault((lan, lex), {lexical}).add(new)\n",
    "            else:\n",
    "                if current != new:\n",
    "                    exceptions['incons'][f].setdefault((lan, lex), {current}).add(new)\n",
    "\n",
    "    nMissing = len(missing)\n",
    "\n",
    "    utils.caption(0, 'lexemes with missing vc property: {}x'.format(nMissing))\n",
    "    for (lan, lex) in sorted(missing)[0:20]:\n",
    "        utils.caption(0, '\\t{}-{} supplied from occurrence: {}'.format(lan, lex, vocFeatures['voc_lex'][(lan, lex)]))\n",
    "    for f in vocFeatures:\n",
    "        utils.caption(0, 'Have all occurrences of a lexeme the same {} value?'.format(f))\n",
    "        showExceptions(exceptions['incons'][f])\n",
    "    utils.caption(0, 'Are the voc_lex values of the lexeme consistent with the vc value of the lexeme?')\n",
    "    showExceptions(exceptions['deviating'])                          "
   ]
  },
  {
   "cell_type": "markdown",
   "metadata": {},
   "source": [
    "# Prepare TF features\n",
    "\n",
    "We now collect the lexical information into the features for nodes of type `lex`."
   ]
  },
  {
   "cell_type": "code",
   "execution_count": 15,
   "metadata": {},
   "outputs": [
    {
     "name": "stdout",
     "output_type": "stream",
     "text": [
      "..............................................................................................\n",
      ".      1m 59s Prepare TF lexical features                                                    .\n",
      "..............................................................................................\n"
     ]
    }
   ],
   "source": [
    "utils.caption(4, 'Prepare TF lexical features')\n",
    "\n",
    "nodeFeatures = {}\n",
    "\n",
    "lexFields = (\n",
    "    ('rt', 'root'),\n",
    "    ('sp', 'sp'),\n",
    "    ('sm', 'nametype'),\n",
    "    ('ls', 'ls'),\n",
    "    ('gl', 'gloss'),\n",
    ")\n",
    "\n",
    "overlapFeatures = {'lex', 'language', 'sp', 'ls'} | set(thisExtraOverlap.strip().split()) \n",
    "# these are features that occur both on word- and lex- otypes\n",
    "\n",
    "for f in overlapFeatures:\n",
    "    nodeFeatures[f] = dict((n, Fs(f).v(n)) for n in N() if Fs(f).v(n) != None)\n",
    "\n",
    "newFeatures = [f[1] for f in lexFields]\n",
    "\n",
    "for (lan, lexemes) in lexEntries.items():\n",
    "    for (lex, lexValues) in lexemes.items():\n",
    "        node = nodeFromLex.get((lan, lex), None)\n",
    "        if node == None: continue\n",
    "        nodeFeatures.setdefault('lex', {})[node] = lex\n",
    "        nodeFeatures.setdefault('language', {})[node] = lan\n",
    "        for (f, newF) in lexFields:\n",
    "            value = lexValues.get(f, None)\n",
    "            if value != None:\n",
    "                nodeFeatures.setdefault(newF, {})[node] = value\n",
    "        if thisVocalizedLexeme:\n",
    "            for (f, vocValues) in vocFeatures.items():\n",
    "                value = vocValues.get((lan, lex), None)\n",
    "                if value != None:\n",
    "                    nodeFeatures.setdefault(f, {})[node] = value"
   ]
  },
  {
   "cell_type": "markdown",
   "metadata": {},
   "source": [
    "We address the issues listed under varia above."
   ]
  },
  {
   "cell_type": "code",
   "execution_count": 16,
   "metadata": {},
   "outputs": [
    {
     "name": "stdout",
     "output_type": "stream",
     "text": [
      "..............................................................................................\n",
      ".      2m 14s Various tweaks in features                                                     .\n",
      "..............................................................................................\n"
     ]
    }
   ],
   "source": [
    "utils.caption(4, 'Various tweaks in features')\n",
    "\n",
    "nodeFeatures['lex0'] = {}\n",
    "nodeFeatures['lex_utf8'] = {}\n",
    "\n",
    "geresh = chr(0x59c)\n",
    "\n",
    "for n in F.otype.s('word'):\n",
    "    lex_utf8 = F.lex_utf8.v(n)\n",
    "    if lex_utf8.endswith(geresh): lex_utf8 = lex_utf8.rstrip(geresh)\n",
    "    lan = F.language.v(n)\n",
    "    nodeFeatures['lex0'][n] = lex\n",
    "    nodeFeatures['lex_utf8'][n] = lex_utf8\n",
    "    nodeFeatures['language'][n] = langMap[lan]"
   ]
  },
  {
   "cell_type": "markdown",
   "metadata": {},
   "source": [
    "We update the `otype`, `otext` and `oslots` features."
   ]
  },
  {
   "cell_type": "code",
   "execution_count": 17,
   "metadata": {},
   "outputs": [
    {
     "name": "stdout",
     "output_type": "stream",
     "text": [
      "..............................................................................................\n",
      ".      2m 21s Update the otype, oslots and otext features                                    .\n",
      "..............................................................................................\n"
     ]
    }
   ],
   "source": [
    "utils.caption(4, 'Update the otype, oslots and otext features')\n",
    "metaData = {}\n",
    "edgeFeatures = {}\n",
    "\n",
    "metaData['otext'] = dict()\n",
    "metaData['otext'].update(T.config)\n",
    "metaData['otext'].update(otextInfo)\n",
    "metaData['otype'] = dict(valueType='str')\n",
    "metaData['oslots'] = dict(valueType='str')\n",
    "\n",
    "for f in nodeFeatures:\n",
    "    metaData[f] = {}\n",
    "    metaData[f].update(provenanceMetadata)\n",
    "    metaData[f]['valueType'] = 'str'\n",
    "\n",
    "nodeFeatures['otype'] = dict((n, F.otype.v(n)) for n in range(1, maxNode +1))\n",
    "nodeFeatures['otype'].update(otypeData)\n",
    "edgeFeatures['oslots'] = dict((n, E.oslots.s(n)) for n in range(maxSlot + 1, maxNode +1))\n",
    "edgeFeatures['oslots'].update(oslotsData)"
   ]
  },
  {
   "cell_type": "code",
   "execution_count": 18,
   "metadata": {},
   "outputs": [
    {
     "name": "stdout",
     "output_type": "stream",
     "text": [
      "|      2m 26s Features that have new or modified data\n",
      "|      2m 26s \tgloss\n",
      "|      2m 26s \tlanguage\n",
      "|      2m 26s \tlex\n",
      "|      2m 26s \tlex0\n",
      "|      2m 26s \tlex_utf8\n",
      "|      2m 26s \tls\n",
      "|      2m 26s \tnametype\n",
      "|      2m 26s \totype\n",
      "|      2m 26s \troot\n",
      "|      2m 26s \tsp\n",
      "|      2m 26s \toslots\n"
     ]
    }
   ],
   "source": [
    "utils.caption(0, 'Features that have new or modified data')\n",
    "for f in sorted(nodeFeatures) + sorted(edgeFeatures):\n",
    "    utils.caption(0, '\\t{}'.format(f))\n",
    "\n",
    "if thisVocalizedLexeme:\n",
    "    testNodes = range(maxNode+1, maxNode + 10)\n",
    "    utils.caption(0, 'Check voc_lex_utf8: {}'.format(\n",
    "        ' '.join(nodeFeatures['voc_lex_utf8'][n] for n in testNodes)\n",
    "    ))"
   ]
  },
  {
   "cell_type": "markdown",
   "metadata": {},
   "source": [
    "We specify the features to delete and list the new/changed features."
   ]
  },
  {
   "cell_type": "code",
   "execution_count": 20,
   "metadata": {},
   "outputs": [
    {
     "name": "stdout",
     "output_type": "stream",
     "text": [
      "|      2m 36s \tNo features to remove\n"
     ]
    }
   ],
   "source": [
    "deleteFeatures = set('''\n",
    "    g_voc_lex\n",
    "    g_voc_lex_utf8\n",
    "'''.strip().split()) if thisVocalizedLexeme else set()\n",
    "\n",
    "if deleteFeatures:\n",
    "    utils.caption(0, '\\tFeatures to remove')\n",
    "    for f in sorted(deleteFeatures):\n",
    "        utils.caption(0, '\\t{}'.format(f))\n",
    "else:\n",
    "    utils.caption(0, '\\tNo features to remove')"
   ]
  },
  {
   "cell_type": "code",
   "execution_count": 21,
   "metadata": {
    "collapsed": true
   },
   "outputs": [],
   "source": [
    "changedDataFeatures = set(nodeFeatures) | set(edgeFeatures)\n",
    "changedFeatures = changedDataFeatures | {'otext'}"
   ]
  },
  {
   "cell_type": "markdown",
   "metadata": {},
   "source": [
    "# Stage: TF generation\n",
    "Transform the collected information in feature-like datastructures, and write it all\n",
    "out to `.tf` files."
   ]
  },
  {
   "cell_type": "code",
   "execution_count": 22,
   "metadata": {
    "scrolled": false
   },
   "outputs": [
    {
     "name": "stdout",
     "output_type": "stream",
     "text": [
      "..............................................................................................\n",
      ".      2m 41s write new/changed features to TF ...                                           .\n",
      "..............................................................................................\n",
      "   |     0.79s T gloss                to /Users/dirk/github/etcbc/bhsa/_temp/4/core\n",
      "   |     0.72s T language             to /Users/dirk/github/etcbc/bhsa/_temp/4/core\n",
      "   |     0.84s T lex                  to /Users/dirk/github/etcbc/bhsa/_temp/4/core\n",
      "   |     0.87s T lex0                 to /Users/dirk/github/etcbc/bhsa/_temp/4/core\n",
      "   |     0.79s T lex_utf8             to /Users/dirk/github/etcbc/bhsa/_temp/4/core\n",
      "   |     0.74s T ls                   to /Users/dirk/github/etcbc/bhsa/_temp/4/core\n",
      "   |     0.70s T nametype             to /Users/dirk/github/etcbc/bhsa/_temp/4/core\n",
      "   |     0.63s T otype                to /Users/dirk/github/etcbc/bhsa/_temp/4/core\n",
      "   |     0.00s T root                 to /Users/dirk/github/etcbc/bhsa/_temp/4/core\n",
      "   |     0.79s T sp                   to /Users/dirk/github/etcbc/bhsa/_temp/4/core\n",
      "   |     4.25s T oslots               to /Users/dirk/github/etcbc/bhsa/_temp/4/core\n",
      "   |     0.00s M otext                to /Users/dirk/github/etcbc/bhsa/_temp/4/core\n"
     ]
    }
   ],
   "source": [
    "utils.caption(4, 'write new/changed features to TF ...')\n",
    "TF = Fabric(locations=thisSave, silent=True)\n",
    "TF.save(nodeFeatures=nodeFeatures, edgeFeatures=edgeFeatures, metaData=metaData)"
   ]
  },
  {
   "cell_type": "markdown",
   "metadata": {},
   "source": [
    "# Stage: Diffs\n",
    "\n",
    "Check differences with previous versions.\n",
    "\n",
    "The new dataset has been created in a temporary directory,\n",
    "and has not yet been copied to its destination.\n",
    "\n",
    "Here is your opportunity to compare the newly created features with the older features.\n",
    "You expect some differences in some features.\n",
    "\n",
    "We check the differences between the previous version of the features and what has been generated.\n",
    "We list features that will be added and deleted and changed.\n",
    "For each changed feature we show the first line where the new feature differs from the old one.\n",
    "We ignore changes in the metadata, because the timestamp in the metadata will always change."
   ]
  },
  {
   "cell_type": "code",
   "execution_count": 23,
   "metadata": {
    "scrolled": false
   },
   "outputs": [
    {
     "name": "stdout",
     "output_type": "stream",
     "text": [
      "..............................................................................................\n",
      ".      2m 55s Check differences with previous version                                        .\n",
      "..............................................................................................\n",
      "|      2m 55s \t2 features to add\n",
      "|      2m 55s \t\tlex0\n",
      "|      2m 55s \t\troot\n",
      "|      2m 55s \tno features to delete\n",
      "|      2m 55s \t10 features in common\n",
      "|      2m 55s gloss                     ... differencesafter the metadata\n",
      "|      2m 56s \tline 426557 OLD --><empty><--\n",
      "|      2m 56s \tline 426557 NEW -->1441145\tin<--\n",
      "|      2m 56s \tline 426558 OLD --><empty><--\n",
      "|      2m 56s \tline 426558 NEW -->beginning<--\n",
      "|      2m 56s \tline 426559 OLD --><empty><--\n",
      "|      2m 56s \tline 426559 NEW -->create<--\n",
      "|      2m 56s \tline 426560 OLD --><empty><--\n",
      "|      2m 56s \tline 426560 NEW -->god(s)<--\n",
      "\n",
      "|      2m 56s language                  ... differencesafter the metadata\n",
      "|      2m 56s \tline      2 OLD -->Hebrew<--\n",
      "|      2m 56s \tline      2 NEW -->hbo<--\n",
      "|      2m 56s \tline      3 OLD -->Hebrew<--\n",
      "|      2m 56s \tline      3 NEW -->hbo<--\n",
      "|      2m 56s \tline      4 OLD -->Hebrew<--\n",
      "|      2m 56s \tline      4 NEW -->hbo<--\n",
      "|      2m 56s \tline      5 OLD -->Hebrew<--\n",
      "|      2m 56s \tline      5 NEW -->hbo<--\n",
      "\n",
      "|      2m 56s lex                       ... differencesafter the metadata\n",
      "|      2m 56s \tline 426557 OLD --><empty><--\n",
      "|      2m 56s \tline 426557 NEW -->1441145\tB<--\n",
      "|      2m 56s \tline 426558 OLD --><empty><--\n",
      "|      2m 56s \tline 426558 NEW -->R>CJT/<--\n",
      "|      2m 56s \tline 426559 OLD --><empty><--\n",
      "|      2m 56s \tline 426559 NEW -->BR>[<--\n",
      "|      2m 56s \tline 426560 OLD --><empty><--\n",
      "|      2m 56s \tline 426560 NEW -->>LHJM/<--\n",
      "\n",
      "|      2m 56s lex_utf8                  ... no changes\n",
      "|      2m 57s ls                        ... differencesafter the metadata\n",
      "|      2m 57s \tline 426557 OLD --><empty><--\n",
      "|      2m 57s \tline 426557 NEW -->1441154\tvbcp<--\n",
      "|      2m 57s \tline 426558 OLD --><empty><--\n",
      "|      2m 57s \tline 426558 NEW -->1441164\tquot<--\n",
      "|      2m 57s \tline 426559 OLD --><empty><--\n",
      "|      2m 57s \tline 426559 NEW -->1441170\tppre<--\n",
      "|      2m 57s \tline 426560 OLD --><empty><--\n",
      "|      2m 57s \tline 426560 NEW -->1441173\tpadv<--\n",
      "\n",
      "|      2m 57s nametype                  ... differencesafter the metadata\n",
      "|      2m 58s \tline 426557 OLD --><empty><--\n",
      "|      2m 58s \tline 426557 NEW -->1441257\tpers<--\n",
      "|      2m 58s \tline 426558 OLD --><empty><--\n",
      "|      2m 58s \tline 426558 NEW -->1441277\ttopo<--\n",
      "|      2m 58s \tline 426559 OLD --><empty><--\n",
      "|      2m 58s \tline 426559 NEW -->1441291\ttopo<--\n",
      "|      2m 58s \tline 426560 OLD --><empty><--\n",
      "|      2m 58s \tline 426560 NEW -->ppde<--\n",
      "\n",
      "|      2m 58s oslots                    ... differencesafter the metadata\n",
      "|      2m 59s \tline 1014591 OLD --><empty><--\n",
      "|      2m 59s \tline 1014591 NEW -->1,84,197,220,241,270,318,330,334,428,435 ...<--\n",
      "|      2m 59s \tline 1014592 OLD --><empty><--\n",
      "|      2m 59s \tline 1014592 NEW -->2,4662,27808,41324,48277,53070,66094,796 ...<--\n",
      "|      2m 59s \tline 1014593 OLD --><empty><--\n",
      "|      2m 59s \tline 1014593 NEW -->3,381,535,545,550,724,736,2126,2137,2148 ...<--\n",
      "|      2m 59s \tline 1014594 OLD --><empty><--\n",
      "|      2m 59s \tline 1014594 NEW -->4,26,34,42,50,60,81,97,127,142,162,176,1 ...<--\n",
      "\n",
      "|      2m 59s otext                     ... differences\n",
      "|      2m 59s \tline      5 OLD -->@email=shebanq@ancient-data.org<--\n",
      "|      2m 59s \tline      5 NEW -->@dateWritten=2017-09-29T20:08:15Z<--\n",
      "|      2m 59s \tline      6 OLD -->@encoders=Constantijn Sikkel (QDF), Ulri ...<--\n",
      "|      2m 59s \tline      6 NEW -->@email=shebanq@ancient-data.org<--\n",
      "|      2m 59s \tline      7 OLD -->@fmt:lex-orig-full={g_lex_utf8} <--\n",
      "|      2m 59s \tline      7 NEW -->@encoders=Constantijn Sikkel (QDF), Ulri ...<--\n",
      "|      2m 59s \tline      8 OLD -->@fmt:lex-orig-plain={lex_utf8} <--\n",
      "|      2m 59s \tline      8 NEW -->@fmt:lex-orig-full={g_lex_utf8} <--\n",
      "\n",
      "|      2m 59s otype                     ... differencesafter the metadata\n",
      "|      2m 59s \tline     14 OLD --><empty><--\n",
      "|      2m 59s \tline     14 NEW -->1441145-1450369\tlex<--\n",
      "\n",
      "|      2m 59s sp                        ... differencesafter the metadata\n",
      "|      2m 59s \tline 426557 OLD --><empty><--\n",
      "|      2m 59s \tline 426557 NEW -->1441145\tprep<--\n",
      "|      2m 59s \tline 426558 OLD --><empty><--\n",
      "|      2m 59s \tline 426558 NEW -->subs<--\n",
      "|      2m 59s \tline 426559 OLD --><empty><--\n",
      "|      2m 59s \tline 426559 NEW -->verb<--\n",
      "|      2m 59s \tline 426560 OLD --><empty><--\n",
      "|      2m 59s \tline 426560 NEW -->subs<--\n",
      "\n",
      "|      2m 59s Done\n"
     ]
    }
   ],
   "source": [
    "utils.checkDiffs(thisSave, thisDeliver, only=changedFeatures)"
   ]
  },
  {
   "cell_type": "markdown",
   "metadata": {},
   "source": [
    "# Stage: Deliver \n",
    "\n",
    "Copy the new TF dataset from the temporary location where it has been created to its final destination."
   ]
  },
  {
   "cell_type": "code",
   "execution_count": 24,
   "metadata": {},
   "outputs": [
    {
     "name": "stdout",
     "output_type": "stream",
     "text": [
      "..............................................................................................\n",
      ".      3m 50s Deliver features to /Users/dirk/github/etcbc/bhsa/tf/4/core                    .\n",
      "..............................................................................................\n",
      "|      3m 50s \tlanguage\n",
      "|      3m 50s \tlex_utf8\n",
      "|      3m 50s \totext\n",
      "|      3m 50s \tnametype\n",
      "|      3m 50s \toslots\n",
      "|      3m 51s \tgloss\n",
      "|      3m 51s \tls\n",
      "|      3m 51s \totype\n",
      "|      3m 51s \tlex0\n",
      "|      3m 51s \troot\n",
      "|      3m 51s \tlex\n",
      "|      3m 51s \tsp\n",
      "..............................................................................................\n",
      ".      3m 51s Delete features from /Users/dirk/github/etcbc/bhsa/tf/4/core                   .\n",
      "..............................................................................................\n"
     ]
    }
   ],
   "source": [
    "utils.deliverFeatures(thisSave, thisDeliver, changedFeatures, deleteFeatures=deleteFeatures)"
   ]
  },
  {
   "cell_type": "markdown",
   "metadata": {},
   "source": [
    "# Stage: Compile TF\n",
    "\n",
    "We load the new features, use the new format, check some values"
   ]
  },
  {
   "cell_type": "code",
   "execution_count": 25,
   "metadata": {},
   "outputs": [
    {
     "name": "stdout",
     "output_type": "stream",
     "text": [
      "..............................................................................................\n",
      ".      3m 58s Load and compile the new TF features                                           .\n",
      "..............................................................................................\n",
      "This is Text-Fabric 2.3.15\n",
      "Api reference : https://github.com/ETCBC/text-fabric/wiki/Api\n",
      "Tutorial      : https://github.com/ETCBC/text-fabric/blob/master/docs/tutorial.ipynb\n",
      "Data sources  : https://github.com/ETCBC/text-fabric-data\n",
      "Data docs     : https://etcbc.github.io/text-fabric-data\n",
      "Shebanq docs  : https://shebanq.ancient-data.org/text\n",
      "Slack team    : https://shebanq.slack.com/signup\n",
      "Questions? Ask shebanq@ancient-data.org for an invite to Slack\n",
      "103 features found and 0 ignored\n",
      "  0.00s loading features ...\n",
      "   |     0.89s T otype                from /Users/dirk/github/etcbc/bhsa/tf/4/core\n",
      "   |       12s T oslots               from /Users/dirk/github/etcbc/bhsa/tf/4/core\n",
      "   |     1.52s T lex                  from /Users/dirk/github/etcbc/bhsa/tf/4/core\n",
      "   |     1.75s T lex_utf8             from /Users/dirk/github/etcbc/bhsa/tf/4/core\n",
      "   |      |     1.32s C __levels__           from otype, oslots\n",
      "   |      |       20s C __order__            from otype, oslots, __levels__\n",
      "   |      |     0.90s C __rank__             from otype, __order__\n",
      "   |      |       19s C __levUp__            from otype, oslots, __rank__\n",
      "   |      |       11s C __levDown__          from otype, __levUp__, __rank__\n",
      "   |      |     4.12s C __boundary__         from otype, oslots, __rank__\n",
      "   |     0.00s M otext                from /Users/dirk/github/etcbc/bhsa/tf/4/core\n",
      "   |      |     0.13s C __sections__         from otype, oslots, otext, __levUp__, __levels__, book, chapter, verse\n",
      "   |     1.42s T language             from /Users/dirk/github/etcbc/bhsa/tf/4/core\n",
      "   |     0.71s T nametype             from /Users/dirk/github/etcbc/bhsa/tf/4/core\n",
      "   |     1.48s T gloss                from /Users/dirk/github/etcbc/bhsa/tf/4/core\n",
      "   |     1.43s T ls                   from /Users/dirk/github/etcbc/bhsa/tf/4/core\n",
      "   |     1.57s T lex0                 from /Users/dirk/github/etcbc/bhsa/tf/4/core\n",
      "   |     0.00s T root                 from /Users/dirk/github/etcbc/bhsa/tf/4/core\n",
      "   |     1.46s T sp                   from /Users/dirk/github/etcbc/bhsa/tf/4/core\n",
      "   |     0.00s Feature overview: 98 for nodes; 4 for edges; 1 configs; 7 computed\n",
      " 1m 22s All features loaded/computed - for details use loadLog()\n"
     ]
    }
   ],
   "source": [
    "utils.caption(4, 'Load and compile the new TF features')\n",
    "\n",
    "TF = Fabric(locations=thisTf, modules=module)\n",
    "api = TF.load(' '.join(changedDataFeatures))\n",
    "api.makeAvailableIn(globals())"
   ]
  },
  {
   "cell_type": "code",
   "execution_count": 26,
   "metadata": {},
   "outputs": [
    {
     "name": "stdout",
     "output_type": "stream",
     "text": [
      "|      5m 23s new format lex-trans-plain (using lex0): B R>CJT/ BR>[ >LHJM/ >T H CMJM/ W >T H >RY/ \n",
      "|      5m 23s lex_utf8 feature              : ב ראשׁית/ ברא[ אלהים/ את ה שׁמים/ ו את ה ארץ/\n",
      "|      5m 23s language feature              : hbo hbo hbo hbo hbo hbo hbo hbo hbo hbo hbo\n",
      "..............................................................................................\n",
      ".      5m 23s Lexeme info for the first verse                                                .\n",
      "..............................................................................................\n",
      "|      5m 23s \thbo - B - 15541x\n",
      "|      5m 23s \t\tgloss           = in\n",
      "|      5m 23s \t\tls              = None\n",
      "|      5m 23s \t\tnametype        = None\n",
      "|      5m 23s \t\troot            = None\n",
      "|      5m 23s \t\tsp              = prep\n",
      "|      5m 23s \thbo - R>CJT/ - 51x\n",
      "|      5m 23s \t\tgloss           = beginning\n",
      "|      5m 23s \t\tls              = None\n",
      "|      5m 23s \t\tnametype        = None\n",
      "|      5m 23s \t\troot            = None\n",
      "|      5m 23s \t\tsp              = subs\n",
      "|      5m 23s \thbo - BR>[ - 48x\n",
      "|      5m 23s \t\tgloss           = create\n",
      "|      5m 23s \t\tls              = None\n",
      "|      5m 23s \t\tnametype        = None\n",
      "|      5m 23s \t\troot            = None\n",
      "|      5m 23s \t\tsp              = verb\n",
      "|      5m 23s \thbo - >LHJM/ - 2601x\n",
      "|      5m 23s \t\tgloss           = god(s)\n",
      "|      5m 23s \t\tls              = None\n",
      "|      5m 23s \t\tnametype        = None\n",
      "|      5m 23s \t\troot            = None\n",
      "|      5m 23s \t\tsp              = subs\n",
      "|      5m 23s \thbo - >T - 11086x\n",
      "|      5m 23s \t\tgloss           = <object marker>\n",
      "|      5m 23s \t\tls              = None\n",
      "|      5m 23s \t\tnametype        = None\n",
      "|      5m 23s \t\troot            = None\n",
      "|      5m 23s \t\tsp              = prep\n",
      "|      5m 23s \thbo - H - 30369x\n",
      "|      5m 23s \t\tgloss           = the\n",
      "|      5m 23s \t\tls              = None\n",
      "|      5m 23s \t\tnametype        = None\n",
      "|      5m 23s \t\troot            = None\n",
      "|      5m 23s \t\tsp              = art\n",
      "|      5m 23s \thbo - CMJM/ - 421x\n",
      "|      5m 23s \t\tgloss           = heavens\n",
      "|      5m 23s \t\tls              = None\n",
      "|      5m 23s \t\tnametype        = None\n",
      "|      5m 23s \t\troot            = CMH\n",
      "|      5m 23s \t\tsp              = subs\n",
      "|      5m 23s \thbo - W - 50273x\n",
      "|      5m 23s \t\tgloss           = and\n",
      "|      5m 23s \t\tls              = None\n",
      "|      5m 23s \t\tnametype        = None\n",
      "|      5m 23s \t\troot            = None\n",
      "|      5m 23s \t\tsp              = conj\n",
      "|      5m 23s \thbo - >T - 11086x\n",
      "|      5m 23s \t\tgloss           = <object marker>\n",
      "|      5m 23s \t\tls              = None\n",
      "|      5m 23s \t\tnametype        = None\n",
      "|      5m 23s \t\troot            = None\n",
      "|      5m 23s \t\tsp              = prep\n",
      "|      5m 23s \thbo - H - 30369x\n",
      "|      5m 23s \t\tgloss           = the\n",
      "|      5m 23s \t\tls              = None\n",
      "|      5m 23s \t\tnametype        = None\n",
      "|      5m 23s \t\troot            = None\n",
      "|      5m 23s \t\tsp              = art\n",
      "|      5m 23s \thbo - >RY/ - 2504x\n",
      "|      5m 23s \t\tgloss           = earth\n",
      "|      5m 23s \t\tls              = None\n",
      "|      5m 23s \t\tnametype        = None\n",
      "|      5m 23s \t\troot            = None\n",
      "|      5m 23s \t\tsp              = subs\n"
     ]
    }
   ],
   "source": [
    "features = [f[1] for f in lexFields] + (['voc_lex', 'voc_lex_utf8'] if thisVocalizedLexeme else [])\n",
    "\n",
    "def showLex(w):\n",
    "    info = dict((f, Fs(f).v(w)) for f in features)\n",
    "    utils.caption(0, '\\t{} - {} - {}x'.format(\n",
    "        F.language.v(w),\n",
    "        F.lex.v(w),\n",
    "        len(L.d(w, otype='word')),\n",
    "    ))\n",
    "    for f in sorted(info):\n",
    "        utils.caption(0, '\\t\\t{:<15} = {}'.format(f, info[f]))\n",
    "\n",
    "fmt = 'lex-trans-plain'\n",
    "utils.caption(0, '{:<30}: {}'.format(\n",
    "    'new format {} (using lex0)'.format(fmt),\n",
    "    T.text(range(1,12), fmt=fmt),\n",
    "))\n",
    "utils.caption(0, '{:<30}: {}'.format(\n",
    "    'lex_utf8 feature',\n",
    "    ' '.join(F.lex_utf8.v(w) for w in range(1,12)),\n",
    "))\n",
    "utils.caption(0, '{:<30}: {}'.format(\n",
    "    'language feature',\n",
    "    ' '.join(F.language.v(w) for w in range(1,12)),\n",
    "))\n",
    "utils.caption(4, 'Lexeme info for the first verse')\n",
    "\n",
    "for w in range(1, 12): showLex(L.u(w, otype='lex')[0])"
   ]
  },
  {
   "cell_type": "code",
   "execution_count": null,
   "metadata": {
    "collapsed": true
   },
   "outputs": [],
   "source": []
  }
 ],
 "metadata": {
  "kernelspec": {
   "display_name": "Python 3",
   "language": "python",
   "name": "python3"
  },
  "language_info": {
   "codemirror_mode": {
    "name": "ipython",
    "version": 3
   },
   "file_extension": ".py",
   "mimetype": "text/x-python",
   "name": "python",
   "nbconvert_exporter": "python",
   "pygments_lexer": "ipython3",
   "version": "3.6.2"
  }
 },
 "nbformat": 4,
 "nbformat_minor": 2
}
