{
 "cells": [
  {
   "cell_type": "markdown",
   "metadata": {},
   "source": [
    "<img align=\"right\" src=\"images/tf-small.png\"/>\n",
    "\n",
    "# Search and Features\n",
    "\n",
    "Here is a collection of examples of how features can be used to find the information you need.\n",
    "\n",
    "See all ins and outs in the\n",
    "[search template reference](https://github.com/Dans-labs/text-fabric/wiki/Api#search-template-reference).\n",
    "\n",
    "All search related things use the\n",
    "[`S` api](https://github.com/Dans-labs/text-fabric/wiki/Api#search)."
   ]
  },
  {
   "cell_type": "code",
   "execution_count": 1,
   "metadata": {
    "collapsed": true
   },
   "outputs": [],
   "source": [
    "from tf.fabric import Fabric"
   ]
  },
  {
   "cell_type": "code",
   "execution_count": 2,
   "metadata": {},
   "outputs": [
    {
     "name": "stdout",
     "output_type": "stream",
     "text": [
      "This is Text-Fabric 3.0.3\n",
      "Api reference : https://github.com/Dans-labs/text-fabric/wiki/Api\n",
      "Tutorial      : https://github.com/Dans-labs/text-fabric/blob/master/docs/tutorial.ipynb\n",
      "Example data  : https://github.com/Dans-labs/text-fabric-data\n",
      "\n",
      "107 features found and 0 ignored\n",
      "  0.00s loading features ...\n",
      "   |     0.00s Feature overview: 102 for nodes; 4 for edges; 1 configs; 7 computed\n",
      "  4.45s All features loaded/computed - for details use loadLog()\n"
     ]
    }
   ],
   "source": [
    "locations = '~/github/etcbc'\n",
    "BHSA = 'bhsa/tf/2016'\n",
    "TF = Fabric(locations=locations, modules=[BHSA] )\n",
    "api = TF.load('')\n",
    "api.makeAvailableIn(globals())"
   ]
  },
  {
   "cell_type": "markdown",
   "metadata": {},
   "source": [
    "# Words in the Pentateuch\n",
    "\n",
    "Let us count all the words in the pentateuch, i.e. the first five books."
   ]
  },
  {
   "cell_type": "code",
   "execution_count": 3,
   "metadata": {
    "collapsed": true
   },
   "outputs": [],
   "source": [
    "query = '''\n",
    "book book=Genesis|Exodus|Leviticus|Numeri|Deuteronomium\n",
    "'''"
   ]
  },
  {
   "cell_type": "markdown",
   "metadata": {},
   "source": [
    "We now get all results."
   ]
  },
  {
   "cell_type": "code",
   "execution_count": 4,
   "metadata": {},
   "outputs": [
    {
     "name": "stdout",
     "output_type": "stream",
     "text": [
      "  0.00s Checking search template ...\n",
      "  0.00s Setting up search space for 1 objects ...\n",
      "  0.01s Constraining search space with 0 relations ...\n",
      "  0.01s Setting up retrieval plan ...\n",
      "  0.01s Ready to deliver results from 5 nodes\n",
      "Iterate over S.fetch() to get the results\n",
      "See S.showPlan() to interpret the results\n",
      "Search with 1 objects and 0 relations\n",
      "Results are instantiations of the following objects:\n",
      "node  0-book                              (     5   choices)\n",
      "  0.02s The results are connected to the original search template as follows:\n",
      " 0     \n",
      " 1 R0  book book=Genesis|Exodus|Leviticus|Numeri|Deuteronomium\n",
      " 2     \n"
     ]
    }
   ],
   "source": [
    "S.study(query)\n",
    "S.showPlan(details=True)"
   ]
  },
  {
   "cell_type": "code",
   "execution_count": 6,
   "metadata": {},
   "outputs": [
    {
     "name": "stdout",
     "output_type": "stream",
     "text": [
      "((426582,), (426583,), (426584,), (426585,), (426586,))\n"
     ]
    }
   ],
   "source": [
    "print(S.fetch(limit=5))"
   ]
  },
  {
   "cell_type": "code",
   "execution_count": 7,
   "metadata": {},
   "outputs": [
    {
     "name": "stdout",
     "output_type": "stream",
     "text": [
      "book  Genesis         has  28762 words\n",
      "book  Exodus          has  23748 words\n",
      "book  Leviticus       has  17099 words\n",
      "book  Numbers         has  23188 words\n",
      "book  Deuteronomy     has  20127 words\n",
      "Whole Pentateuch      has 112924 words\n"
     ]
    }
   ],
   "source": [
    "allN = 0\n",
    "for (bookNode,) in S.fetch():\n",
    "    thisN = len(L.d(bookNode, 'word'))\n",
    "    print('book  {:<15} has {:>6} words'.format(T.bookName(bookNode, lang='en'), thisN))\n",
    "    allN += thisN\n",
    "print('Whole {:<15} has {:>6} words'.format('Pentateuch', allN))"
   ]
  },
  {
   "cell_type": "code",
   "execution_count": null,
   "metadata": {
    "collapsed": true
   },
   "outputs": [],
   "source": []
  }
 ],
 "metadata": {
  "kernelspec": {
   "display_name": "Python 3",
   "language": "python",
   "name": "python3"
  },
  "language_info": {
   "codemirror_mode": {
    "name": "ipython",
    "version": 3
   },
   "file_extension": ".py",
   "mimetype": "text/x-python",
   "name": "python",
   "nbconvert_exporter": "python",
   "pygments_lexer": "ipython3",
   "version": "3.6.2"
  }
 },
 "nbformat": 4,
 "nbformat_minor": 1
}
