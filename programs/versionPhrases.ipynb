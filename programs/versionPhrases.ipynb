{
 "cells": [
  {
   "cell_type": "markdown",
   "metadata": {},
   "source": [
    "<img align=\"right\" src=\"images/tf-small.png\"/>\n",
    "\n",
    "# Phrases in versions of the BHSA\n",
    "\n",
    "In [versionMappings](https://github.com/ETCBC/bhsa/blob/master/programs/versionMappings.ipynb)\n",
    "we have constructed edge features that map the nodes from one version of the data to the next.\n",
    "In this notebook we are going to use those edges to study what happened to the feature `function`\n",
    "of `phrases`.\n",
    "\n",
    "# Overview\n",
    "First we explore to what degree the boundaries of phrases have changed.\n",
    "\n",
    "Secondly, we explore how the values of the `function` feature has changed.\n",
    "\n",
    "# Discussion\n",
    "The feature `function` was called `phrase_function` in version `3`.\n",
    "\n",
    "## Phrase boundaries\n",
    "In order to see whether phrase boundaries have changed, we follow the `omap@` edges from \n",
    "phrases in one version to their couterparts in the next version.\n",
    "\n",
    "We make use of the dissimilarity values that are attached to such edges.\n",
    "If there is no value, or the value is `0`, we have a match without a boundary change.\n",
    "All other dissimilarities imply that boundaries have changed.\n",
    "\n",
    "And we should also investigate if some phrases completely lack a counterpart."
   ]
  },
  {
   "cell_type": "code",
   "execution_count": 1,
   "metadata": {
    "collapsed": true
   },
   "outputs": [],
   "source": [
    "import os,collections\n",
    "from functools import reduce\n",
    "from utils import caption\n",
    "from tf.fabric import Fabric"
   ]
  },
  {
   "cell_type": "markdown",
   "metadata": {},
   "source": [
    "We specify our versions and the subtle differences between them as far as they are relevant."
   ]
  },
  {
   "cell_type": "code",
   "execution_count": 2,
   "metadata": {},
   "outputs": [],
   "source": [
    "REPO = os.path.expanduser('~/github/etcbc/bhsa')\n",
    "baseDir = '{}/tf'.format(REPO)\n",
    "tempDir = '{}/_temp'.format(REPO)\n",
    "\n",
    "versions = '''\n",
    "    3 \n",
    "    4 \n",
    "    4b \n",
    "    2016\n",
    "    2017\n",
    "'''.strip().split()\n",
    "\n",
    "versionInfoSpec = {\n",
    "    '': dict(\n",
    "            OCC='g_word',\n",
    "            LEX='lex',\n",
    "            FUNCTION='function',\n",
    "        ),\n",
    "    '3': dict(\n",
    "            OCC='text_plain',\n",
    "            LEX='lexeme',\n",
    "            FUNCTION='phrase_function',\n",
    "        ),\n",
    "}\n",
    "\n",
    "versionInfo = {}\n",
    "\n",
    "defaults = versionInfoSpec[''].items()\n",
    "\n",
    "for (i, v) in enumerate(versions):\n",
    "    versionInfo.setdefault(v, {})['OMAP'] = '' if i == 0 else 'omap@{}-{}'.format(versions[i-1], v)\n",
    "    versionInfo[v].update(versionInfoSpec.get('', {}))\n",
    "    versionInfo[v].update(versionInfoSpec.get(v, {}))"
   ]
  },
  {
   "cell_type": "markdown",
   "metadata": {},
   "source": [
    "Load all versions in one go, with the version mapping feature if present."
   ]
  },
  {
   "cell_type": "code",
   "execution_count": 6,
   "metadata": {},
   "outputs": [
    {
     "name": "stdout",
     "output_type": "stream",
     "text": [
      "..............................................................................................\n",
      ".       0.00s Version -> 3 <- loading ...                                                    .\n",
      "..............................................................................................\n",
      "This is Text-Fabric 3.0.7\n",
      "Api reference : https://github.com/Dans-labs/text-fabric/wiki/Api\n",
      "Tutorial      : https://github.com/Dans-labs/text-fabric/blob/master/docs/tutorial.ipynb\n",
      "Example data  : https://github.com/Dans-labs/text-fabric-data\n",
      "\n",
      "118 features found and 0 ignored\n",
      "  0.00s loading features ...\n",
      "   |     0.12s B lexeme               from /Users/dirk/github/etcbc/bhsa/tf/3\n",
      "   |     0.17s B text_plain           from /Users/dirk/github/etcbc/bhsa/tf/3\n",
      "   |     0.07s B phrase_function      from /Users/dirk/github/etcbc/bhsa/tf/3\n",
      "   |     0.00s Feature overview: 115 for nodes; 2 for edges; 1 configs; 7 computed\n",
      "  4.64s All features loaded/computed - for details use loadLog()\n",
      "..............................................................................................\n",
      ".       4.65s Version -> 4 <- loading ...                                                    .\n",
      "..............................................................................................\n",
      "This is Text-Fabric 3.0.7\n",
      "Api reference : https://github.com/Dans-labs/text-fabric/wiki/Api\n",
      "Tutorial      : https://github.com/Dans-labs/text-fabric/blob/master/docs/tutorial.ipynb\n",
      "Example data  : https://github.com/Dans-labs/text-fabric-data\n",
      "\n",
      "104 features found and 0 ignored\n",
      "  0.00s loading features ...\n",
      "   |     0.14s B g_word               from /Users/dirk/github/etcbc/bhsa/tf/4\n",
      "   |     0.11s B lex                  from /Users/dirk/github/etcbc/bhsa/tf/4\n",
      "   |     0.07s B function             from /Users/dirk/github/etcbc/bhsa/tf/4\n",
      "   |     0.00s B omap@3-4             from /Users/dirk/github/etcbc/bhsa/tf/4\n",
      "   |     0.00s Feature overview: 98 for nodes; 5 for edges; 1 configs; 7 computed\n",
      "  4.15s All features loaded/computed - for details use loadLog()\n",
      "..............................................................................................\n",
      ".       8.80s Version -> 4b <- loading ...                                                   .\n",
      "..............................................................................................\n",
      "This is Text-Fabric 3.0.7\n",
      "Api reference : https://github.com/Dans-labs/text-fabric/wiki/Api\n",
      "Tutorial      : https://github.com/Dans-labs/text-fabric/blob/master/docs/tutorial.ipynb\n",
      "Example data  : https://github.com/Dans-labs/text-fabric-data\n",
      "\n",
      "103 features found and 0 ignored\n",
      "  0.00s loading features ...\n",
      "   |     0.14s B g_word               from /Users/dirk/github/etcbc/bhsa/tf/4b\n",
      "   |     0.21s B lex                  from /Users/dirk/github/etcbc/bhsa/tf/4b\n",
      "   |     0.07s B function             from /Users/dirk/github/etcbc/bhsa/tf/4b\n",
      "   |     0.00s B omap@4-4b            from /Users/dirk/github/etcbc/bhsa/tf/4b\n",
      "   |     0.00s Feature overview: 97 for nodes; 5 for edges; 1 configs; 7 computed\n",
      "  5.07s All features loaded/computed - for details use loadLog()\n",
      "..............................................................................................\n",
      ".         14s Version -> 2016 <- loading ...                                                 .\n",
      "..............................................................................................\n",
      "This is Text-Fabric 3.0.7\n",
      "Api reference : https://github.com/Dans-labs/text-fabric/wiki/Api\n",
      "Tutorial      : https://github.com/Dans-labs/text-fabric/blob/master/docs/tutorial.ipynb\n",
      "Example data  : https://github.com/Dans-labs/text-fabric-data\n",
      "\n",
      "108 features found and 0 ignored\n",
      "  0.00s loading features ...\n",
      "   |     0.14s B g_word               from /Users/dirk/github/etcbc/bhsa/tf/2016\n",
      "   |     0.12s B lex                  from /Users/dirk/github/etcbc/bhsa/tf/2016\n",
      "   |     0.07s B function             from /Users/dirk/github/etcbc/bhsa/tf/2016\n",
      "   |     0.00s B omap@4b-2016         from /Users/dirk/github/etcbc/bhsa/tf/2016\n",
      "   |     0.00s Feature overview: 102 for nodes; 5 for edges; 1 configs; 7 computed\n",
      "  4.98s All features loaded/computed - for details use loadLog()\n",
      "..............................................................................................\n",
      ".         19s Version -> 2017 <- loading ...                                                 .\n",
      "..............................................................................................\n",
      "This is Text-Fabric 3.0.7\n",
      "Api reference : https://github.com/Dans-labs/text-fabric/wiki/Api\n",
      "Tutorial      : https://github.com/Dans-labs/text-fabric/blob/master/docs/tutorial.ipynb\n",
      "Example data  : https://github.com/Dans-labs/text-fabric-data\n",
      "\n",
      "114 features found and 0 ignored\n",
      "  0.00s loading features ...\n",
      "   |     0.14s B g_word               from /Users/dirk/github/etcbc/bhsa/tf/2017\n",
      "   |     0.12s B lex                  from /Users/dirk/github/etcbc/bhsa/tf/2017\n",
      "   |     0.08s B function             from /Users/dirk/github/etcbc/bhsa/tf/2017\n",
      "   |     0.00s B omap@2016-2017       from /Users/dirk/github/etcbc/bhsa/tf/2017\n",
      "   |     0.00s Feature overview: 108 for nodes; 5 for edges; 1 configs; 7 computed\n",
      "  5.05s All features loaded/computed - for details use loadLog()\n"
     ]
    }
   ],
   "source": [
    "TF = {}\n",
    "api = {}\n",
    "for (i, v) in enumerate(versions):\n",
    "    for (param, value) in versionInfo[v].items():\n",
    "        globals()[param] = value\n",
    "    caption(4, 'Version -> {} <- loading ...'.format(v))\n",
    "    TF[v] = Fabric(locations='{}/{}'.format(baseDir, v), modules=[''])\n",
    "    api[v] = TF[v].load(' '.join((OCC, LEX, FUNCTION, OMAP)))"
   ]
  },
  {
   "cell_type": "markdown",
   "metadata": {},
   "source": [
    "We want to switch easily between the APIs for the versions."
   ]
  },
  {
   "cell_type": "code",
   "execution_count": 7,
   "metadata": {
    "collapsed": true
   },
   "outputs": [],
   "source": [
    "def activate(v):\n",
    "    for (param, value) in versionInfo.get(v, versionInfo['']).items():\n",
    "        globals()[param] = value\n",
    "    api[v].makeAvailableIn(globals())\n",
    "    caption(4, 'Active version is now -> {} <-'.format(v))"
   ]
  },
  {
   "cell_type": "markdown",
   "metadata": {},
   "source": [
    "# Get counterparts\n",
    "\n",
    "Here is a function that gets the counterparts of phrases between versions, and classifies them according to dissimilarity.\n",
    "\n",
    "`phraseMapping` is keyed by a (source version, target verison) pair,\n",
    "then by dissimilarity, then by node in source version, and then\n",
    "the value is a node in the target version.\n",
    "\n",
    "Source nodes that lack a counterpart, end up in a bucket with dissimilarity -1."
   ]
  },
  {
   "cell_type": "code",
   "execution_count": 10,
   "metadata": {
    "collapsed": true
   },
   "outputs": [],
   "source": [
    "phraseMapping = {}"
   ]
  },
  {
   "cell_type": "code",
   "execution_count": 20,
   "metadata": {
    "collapsed": true
   },
   "outputs": [],
   "source": [
    "def getPhrases(v, w):\n",
    "    V = api[v]\n",
    "    W = api[w]\n",
    "    mapVW = 'omap@{}-{}'.format(v, w)\n",
    "    vKey = (v, w)\n",
    "    \n",
    "    phraseMapping[vKey] = {}\n",
    "    phrases = phraseMapping[vKey]\n",
    "    \n",
    "    i = 0\n",
    "    for v in V.F.otype.s('phrase'):\n",
    "        i += 1\n",
    "        ws = W.Es(mapVW).f(v)\n",
    "        if ws == None:\n",
    "            phrases.setdefault(-1, set()).add(v)\n",
    "            i += 1\n",
    "        else:\n",
    "            for (w, dis) in ws:\n",
    "                phrases.setdefault(dis, {}).setdefault(v, set()).add(w)\n",
    "    print(i)"
   ]
  },
  {
   "cell_type": "code",
   "execution_count": 21,
   "metadata": {},
   "outputs": [
    {
     "name": "stdout",
     "output_type": "stream",
     "text": [
      "257109\n"
     ]
    }
   ],
   "source": [
    "getPhrases('3', '4')"
   ]
  },
  {
   "cell_type": "code",
   "execution_count": 17,
   "metadata": {},
   "outputs": [
    {
     "data": {
      "text/plain": [
       "[]"
      ]
     },
     "execution_count": 17,
     "metadata": {},
     "output_type": "execute_result"
    }
   ],
   "source": [
    "sorted(phraseMapping[('3', '4')].keys())"
   ]
  },
  {
   "cell_type": "code",
   "execution_count": null,
   "metadata": {
    "collapsed": true
   },
   "outputs": [],
   "source": []
  }
 ],
 "metadata": {
  "kernelspec": {
   "display_name": "Python 3",
   "language": "python",
   "name": "python3"
  },
  "language_info": {
   "codemirror_mode": {
    "name": "ipython",
    "version": 3
   },
   "file_extension": ".py",
   "mimetype": "text/x-python",
   "name": "python",
   "nbconvert_exporter": "python",
   "pygments_lexer": "ipython3",
   "version": "3.6.2"
  }
 },
 "nbformat": 4,
 "nbformat_minor": 2
}
