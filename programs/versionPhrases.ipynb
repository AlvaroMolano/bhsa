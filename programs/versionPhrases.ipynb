{
 "cells": [
  {
   "cell_type": "markdown",
   "metadata": {},
   "source": [
    "<img align=\"right\" src=\"images/tf-small.png\"/>\n",
    "\n",
    "# Phrases in versions of the BHSA\n",
    "\n",
    "In [versionMappings](https://github.com/ETCBC/bhsa/blob/master/programs/versionMappings.ipynb)\n",
    "we have constructed edge features that map the nodes from one version of the data to the next.\n",
    "In this notebook we are going to use those edges to study what happened to the feature `function`\n",
    "of `phrases`.\n",
    "\n",
    "# Overview\n",
    "\n",
    "We explore:\n",
    "* how the values of the `function` feature have changed;\n",
    "* to what degree phrases have other boundaries.\n",
    "\n",
    "# Discussion\n",
    "The feature `function` was called `phrase_function` in version `3`.\n",
    "\n",
    "## Phrase boundaries\n",
    "In order to see whether phrase boundaries have changed, we follow the `omap@` edges from \n",
    "phrases in one version to their couterparts in the next version.\n",
    "\n",
    "We make use of the dissimilarity values that are attached to such edges.\n",
    "If there is no value, or the value is `0`, we have a match without a boundary change.\n",
    "All other dissimilarities imply that boundaries have changed.\n",
    "\n",
    "# Results\n",
    "For the sake of presentation,\n",
    "we start with the result cells, **they should be run after the other cells**.\n",
    "The computation starts [here](#Start)."
   ]
  },
  {
   "cell_type": "markdown",
   "metadata": {},
   "source": [
    "# Changes in `function` values"
   ]
  },
  {
   "cell_type": "code",
   "execution_count": 11,
   "metadata": {
    "scrolled": false
   },
   "outputs": [
    {
     "name": "stdout",
     "output_type": "stream",
     "text": [
      "\n",
      "##############################################################################################\n",
      "#                                                                                            #\n",
      "#      6m 41s Phrase function change from version 3 to 4                                     #\n",
      "#                                                                                            #\n",
      "##############################################################################################\n",
      "\n"
     ]
    },
    {
     "data": {
      "text/html": [
       "<table><tr><td>3\\4</td><td>Adju</td><td>Cmpl</td><td>Conj</td><td>EPPr</td><td>ExsS</td><td>Exst</td><td>Frnt</td><td>IntS</td><td>Intj</td><td>Loca</td><td>ModS</td><td>Modi</td><td>NCoS</td><td>NCop</td><td>Nega</td><td>Objc</td><td>PrAd</td><td>PrcS</td><td>PreC</td><td>PreO</td><td>PreS</td><td>Pred</td><td>PtcO</td><td>Ques</td><td>Rela</td><td>Subj</td><td>Supp</td><td>Time</td><td>Unkn</td><td>Voct</td></tr><tr><td>Adju</td><td>6067</td><td>74</td><td>15</td><td></td><td></td><td></td><td>6</td><td></td><td></td><td>10</td><td></td><td>31</td><td></td><td></td><td></td><td>43</td><td>19</td><td></td><td>65</td><td></td><td></td><td></td><td></td><td></td><td>1</td><td>43</td><td></td><td>15</td><td></td><td>2</td></tr><tr><td>Cmpl</td><td>90</td><td>22418</td><td>12</td><td></td><td></td><td></td><td>5</td><td></td><td></td><td>14</td><td></td><td>6</td><td></td><td></td><td>1</td><td>79</td><td>26</td><td></td><td>21</td><td></td><td></td><td>3</td><td></td><td>1</td><td>1</td><td>71</td><td>3</td><td>6</td><td></td><td>2</td></tr><tr><td>Conj</td><td>87</td><td>27</td><td>33540</td><td></td><td></td><td></td><td>6</td><td></td><td></td><td>8</td><td></td><td>154</td><td></td><td></td><td></td><td>36</td><td>2</td><td></td><td>5</td><td>2</td><td>3</td><td>18</td><td></td><td></td><td>39</td><td>22</td><td></td><td>7</td><td></td><td>1</td></tr><tr><td>ExsS</td><td></td><td></td><td></td><td></td><td>7</td><td></td><td></td><td></td><td></td><td></td><td></td><td></td><td></td><td></td><td></td><td></td><td></td><td></td><td></td><td></td><td></td><td></td><td></td><td></td><td></td><td></td><td></td><td></td><td></td><td></td></tr><tr><td>Exst</td><td></td><td></td><td></td><td></td><td>2</td><td>90</td><td></td><td></td><td></td><td></td><td>1</td><td></td><td>3</td><td>9</td><td></td><td></td><td></td><td></td><td></td><td></td><td></td><td></td><td></td><td></td><td></td><td></td><td></td><td></td><td></td><td></td></tr><tr><td>Frnt</td><td>8</td><td>2</td><td>1</td><td></td><td></td><td></td><td>785</td><td></td><td></td><td></td><td></td><td></td><td></td><td></td><td></td><td>8</td><td></td><td></td><td>12</td><td></td><td></td><td></td><td></td><td></td><td></td><td>22</td><td></td><td></td><td></td><td>5</td></tr><tr><td>IntS</td><td></td><td></td><td></td><td></td><td></td><td></td><td></td><td>161</td><td></td><td></td><td></td><td></td><td></td><td></td><td></td><td></td><td></td><td></td><td>1</td><td></td><td></td><td></td><td></td><td></td><td></td><td></td><td></td><td></td><td></td><td></td></tr><tr><td>Intj</td><td></td><td>1</td><td>2</td><td></td><td></td><td></td><td></td><td>17</td><td>1199</td><td></td><td></td><td>16</td><td></td><td></td><td></td><td>5</td><td></td><td></td><td>9</td><td></td><td></td><td>3</td><td></td><td>5</td><td></td><td>5</td><td></td><td>1</td><td></td><td>1</td></tr><tr><td>IrpC</td><td>1</td><td>18</td><td></td><td></td><td></td><td></td><td></td><td></td><td></td><td></td><td></td><td></td><td></td><td></td><td></td><td></td><td></td><td></td><td>3</td><td></td><td></td><td></td><td></td><td></td><td></td><td></td><td></td><td></td><td></td><td></td></tr><tr><td>IrpO</td><td>1</td><td>1</td><td></td><td></td><td></td><td></td><td></td><td></td><td></td><td></td><td></td><td></td><td></td><td></td><td></td><td>130</td><td></td><td></td><td>1</td><td></td><td></td><td></td><td></td><td>2</td><td></td><td></td><td></td><td></td><td></td><td></td></tr><tr><td>IrpP</td><td></td><td></td><td></td><td></td><td></td><td></td><td></td><td></td><td></td><td></td><td></td><td>2</td><td></td><td></td><td></td><td>4</td><td></td><td>1</td><td>139</td><td></td><td></td><td></td><td></td><td>7</td><td></td><td>3</td><td></td><td></td><td></td><td></td></tr><tr><td>IrpS</td><td></td><td></td><td></td><td></td><td></td><td></td><td>1</td><td></td><td></td><td></td><td></td><td></td><td></td><td></td><td></td><td></td><td></td><td>3</td><td>2</td><td></td><td></td><td></td><td></td><td>2</td><td></td><td>188</td><td></td><td></td><td></td><td></td></tr><tr><td>Loca</td><td>12</td><td>17</td><td></td><td></td><td></td><td></td><td>2</td><td></td><td></td><td>2119</td><td></td><td>6</td><td></td><td></td><td></td><td>11</td><td></td><td></td><td>3</td><td></td><td></td><td></td><td></td><td>1</td><td></td><td>14</td><td></td><td></td><td></td><td></td></tr><tr><td>ModS</td><td></td><td></td><td></td><td></td><td></td><td></td><td></td><td></td><td></td><td></td><td>26</td><td>2</td><td></td><td></td><td></td><td></td><td></td><td></td><td></td><td></td><td></td><td></td><td></td><td></td><td></td><td></td><td></td><td>1</td><td></td><td></td></tr><tr><td>Modi</td><td>35</td><td>62</td><td>7</td><td></td><td></td><td></td><td>28</td><td></td><td>24</td><td>18</td><td></td><td>2567</td><td></td><td>1</td><td>40</td><td>135</td><td></td><td></td><td>15</td><td></td><td></td><td></td><td></td><td>2</td><td></td><td>241</td><td></td><td>46</td><td></td><td></td></tr><tr><td>NegS</td><td></td><td></td><td></td><td></td><td></td><td></td><td></td><td></td><td></td><td></td><td></td><td></td><td>50</td><td></td><td></td><td></td><td></td><td></td><td></td><td></td><td></td><td></td><td></td><td></td><td></td><td></td><td></td><td></td><td></td><td></td></tr><tr><td>Nega</td><td>10</td><td>6</td><td>10</td><td></td><td></td><td>1</td><td></td><td></td><td></td><td></td><td></td><td></td><td>24</td><td>433</td><td>4242</td><td>5</td><td></td><td></td><td>3</td><td>3</td><td>1</td><td>36</td><td></td><td></td><td></td><td>1</td><td></td><td>1</td><td></td><td></td></tr><tr><td>Objc</td><td>22</td><td>44</td><td>14</td><td></td><td></td><td></td><td>8</td><td></td><td></td><td>2</td><td></td><td>5</td><td></td><td></td><td></td><td>15588</td><td>10</td><td></td><td>15</td><td>2</td><td></td><td>1</td><td></td><td></td><td></td><td>93</td><td></td><td>2</td><td></td><td>7</td></tr><tr><td>PreC</td><td>48</td><td>50</td><td>10</td><td></td><td></td><td>3</td><td>18</td><td></td><td>2</td><td>14</td><td></td><td>7</td><td>1</td><td>1</td><td></td><td>49</td><td>11</td><td></td><td>13797</td><td></td><td></td><td>817</td><td></td><td>2</td><td>1</td><td>108</td><td></td><td>7</td><td></td><td>13</td></tr><tr><td>PreO</td><td>9</td><td>1</td><td></td><td></td><td></td><td></td><td>1</td><td></td><td></td><td></td><td></td><td></td><td></td><td></td><td></td><td>1</td><td></td><td></td><td>2</td><td>5463</td><td>141</td><td>12</td><td>67</td><td></td><td></td><td></td><td></td><td>6</td><td></td><td></td></tr><tr><td>PreS</td><td></td><td></td><td></td><td></td><td></td><td></td><td></td><td></td><td></td><td></td><td></td><td></td><td></td><td></td><td></td><td></td><td></td><td></td><td></td><td>7</td><td>630</td><td>2</td><td></td><td></td><td></td><td></td><td></td><td>2</td><td></td><td></td></tr><tr><td>Pred</td><td>1</td><td>4</td><td>1</td><td></td><td></td><td></td><td>1</td><td></td><td></td><td>1</td><td></td><td>1</td><td></td><td></td><td></td><td>2</td><td></td><td></td><td>202</td><td>42</td><td>7</td><td>56189</td><td></td><td></td><td></td><td>9</td><td></td><td>4</td><td></td><td></td></tr><tr><td>PtSp</td><td></td><td></td><td></td><td></td><td></td><td></td><td></td><td></td><td></td><td></td><td></td><td></td><td></td><td></td><td></td><td></td><td></td><td></td><td>1</td><td></td><td></td><td></td><td></td><td></td><td></td><td>1</td><td></td><td></td><td></td><td></td></tr><tr><td>PtcO</td><td></td><td></td><td></td><td></td><td></td><td></td><td>1</td><td></td><td></td><td></td><td></td><td></td><td></td><td></td><td></td><td>4</td><td></td><td></td><td></td><td>1</td><td></td><td></td><td>90</td><td></td><td></td><td>11</td><td></td><td></td><td></td><td>1</td></tr><tr><td>Ques</td><td>2</td><td>2</td><td>1</td><td></td><td></td><td></td><td></td><td></td><td>2</td><td></td><td></td><td></td><td></td><td>1</td><td>2</td><td>1</td><td></td><td></td><td></td><td></td><td></td><td></td><td></td><td>885</td><td></td><td>2</td><td></td><td>1</td><td></td><td></td></tr><tr><td>Rela</td><td>1</td><td>3</td><td>569</td><td></td><td></td><td></td><td></td><td></td><td></td><td></td><td></td><td>2</td><td></td><td></td><td>1</td><td>8</td><td></td><td></td><td></td><td></td><td></td><td></td><td></td><td>1</td><td>4903</td><td></td><td></td><td></td><td></td><td></td></tr><tr><td>Subj</td><td>19</td><td>10</td><td>4</td><td></td><td></td><td></td><td>40</td><td></td><td>1</td><td>7</td><td></td><td>8</td><td>1</td><td></td><td>1</td><td>89</td><td>3</td><td>1</td><td>143</td><td>2</td><td></td><td>3</td><td>2</td><td>2</td><td>1</td><td>21407</td><td></td><td>5</td><td></td><td>28</td></tr><tr><td>Supp</td><td>15</td><td>44</td><td></td><td></td><td></td><td></td><td></td><td></td><td></td><td>1</td><td></td><td></td><td></td><td></td><td></td><td>3</td><td></td><td></td><td>4</td><td></td><td></td><td></td><td></td><td></td><td></td><td></td><td>264</td><td></td><td></td><td></td></tr><tr><td>Time</td><td>15</td><td>5</td><td>2</td><td></td><td></td><td></td><td>1</td><td></td><td></td><td>1</td><td>1</td><td>19</td><td></td><td></td><td></td><td>22</td><td></td><td></td><td>6</td><td></td><td></td><td>2</td><td></td><td></td><td></td><td>38</td><td></td><td>2807</td><td></td><td>1</td></tr><tr><td>Unkn</td><td>2726</td><td>5589</td><td>12119</td><td>4</td><td>5</td><td>50</td><td>214</td><td>72</td><td>402</td><td>385</td><td>8</td><td>910</td><td>22</td><td>164</td><td>1772</td><td>5243</td><td>22</td><td>5</td><td>3756</td><td>10</td><td>8</td><td>36</td><td>7</td><td>369</td><td>1401</td><td>7609</td><td>29</td><td>803</td><td>11416</td><td>692</td></tr><tr><td>Voct</td><td>1</td><td>1</td><td></td><td></td><td></td><td></td><td>8</td><td></td><td>2</td><td></td><td></td><td></td><td></td><td></td><td></td><td>2</td><td></td><td></td><td>1</td><td></td><td></td><td></td><td></td><td></td><td>1</td><td>8</td><td></td><td></td><td></td><td>835</td></tr></table>"
      ],
      "text/plain": [
       "<IPython.core.display.HTML object>"
      ]
     },
     "metadata": {},
     "output_type": "display_data"
    },
    {
     "name": "stdout",
     "output_type": "stream",
     "text": [
      "\n",
      "##############################################################################################\n",
      "#                                                                                            #\n",
      "#      6m 42s Phrase function change from version 4 to 4b                                    #\n",
      "#                                                                                            #\n",
      "##############################################################################################\n",
      "\n"
     ]
    },
    {
     "data": {
      "text/html": [
       "<table><tr><td>4\\4b</td><td>Adju</td><td>Cmpl</td><td>Conj</td><td>EPPr</td><td>ExsS</td><td>Exst</td><td>Frnt</td><td>IntS</td><td>Intj</td><td>Loca</td><td>ModS</td><td>Modi</td><td>NCoS</td><td>NCop</td><td>Nega</td><td>Objc</td><td>PrAd</td><td>PrcS</td><td>PreC</td><td>PreO</td><td>PreS</td><td>Pred</td><td>PtcO</td><td>Ques</td><td>Rela</td><td>Subj</td><td>Supp</td><td>Time</td><td>Voct</td></tr><tr><td>Adju</td><td>8061</td><td>94</td><td>13</td><td></td><td></td><td></td><td>7</td><td></td><td></td><td>10</td><td></td><td>206</td><td></td><td></td><td>1</td><td>155</td><td>82</td><td></td><td>65</td><td>5</td><td>1</td><td></td><td></td><td>8</td><td>1</td><td>186</td><td>3</td><td>17</td><td></td></tr><tr><td>Cmpl</td><td>77</td><td>27606</td><td>9</td><td></td><td></td><td></td><td>2</td><td></td><td></td><td>10</td><td></td><td>8</td><td></td><td></td><td></td><td>65</td><td>7</td><td></td><td>105</td><td></td><td></td><td>3</td><td>1</td><td>1</td><td>5</td><td>86</td><td></td><td>2</td><td>3</td></tr><tr><td>Conj</td><td>44</td><td>39</td><td>45936</td><td></td><td></td><td></td><td>17</td><td></td><td></td><td>10</td><td></td><td>6</td><td></td><td></td><td></td><td>110</td><td>1</td><td></td><td>19</td><td>1</td><td></td><td>3</td><td></td><td></td><td>74</td><td>42</td><td></td><td>7</td><td>1</td></tr><tr><td>EPPr</td><td></td><td></td><td></td><td>4</td><td></td><td></td><td></td><td></td><td></td><td></td><td></td><td></td><td></td><td></td><td></td><td></td><td></td><td></td><td></td><td></td><td></td><td></td><td></td><td></td><td></td><td></td><td></td><td></td><td></td></tr><tr><td>ExsS</td><td></td><td></td><td></td><td></td><td>14</td><td></td><td></td><td></td><td></td><td></td><td></td><td></td><td></td><td></td><td></td><td></td><td></td><td></td><td></td><td></td><td></td><td></td><td></td><td></td><td></td><td></td><td></td><td></td><td></td></tr><tr><td>Exst</td><td></td><td></td><td></td><td></td><td></td><td>143</td><td></td><td></td><td></td><td></td><td></td><td></td><td></td><td>1</td><td></td><td></td><td></td><td></td><td></td><td></td><td></td><td></td><td></td><td></td><td></td><td></td><td></td><td></td><td></td></tr><tr><td>Frnt</td><td>1</td><td>5</td><td></td><td></td><td></td><td></td><td>1007</td><td>1</td><td></td><td></td><td></td><td></td><td></td><td></td><td></td><td>2</td><td></td><td></td><td>5</td><td></td><td></td><td></td><td></td><td></td><td></td><td>5</td><td></td><td></td><td>3</td></tr><tr><td>IntS</td><td></td><td></td><td></td><td></td><td></td><td></td><td></td><td>250</td><td></td><td></td><td></td><td></td><td></td><td></td><td></td><td></td><td></td><td></td><td></td><td></td><td></td><td></td><td></td><td></td><td></td><td></td><td></td><td></td><td></td></tr><tr><td>Intj</td><td></td><td></td><td></td><td></td><td></td><td></td><td></td><td></td><td>1624</td><td></td><td></td><td></td><td></td><td></td><td></td><td></td><td></td><td></td><td></td><td></td><td></td><td></td><td></td><td></td><td></td><td>1</td><td></td><td></td><td>3</td></tr><tr><td>Loca</td><td>7</td><td>18</td><td></td><td></td><td></td><td></td><td></td><td></td><td></td><td>2433</td><td></td><td>43</td><td></td><td></td><td></td><td>5</td><td></td><td></td><td>4</td><td></td><td></td><td></td><td></td><td></td><td></td><td>2</td><td></td><td></td><td></td></tr><tr><td>ModS</td><td></td><td></td><td></td><td></td><td></td><td></td><td></td><td></td><td></td><td></td><td>35</td><td></td><td></td><td></td><td></td><td></td><td></td><td></td><td></td><td></td><td></td><td></td><td></td><td></td><td></td><td></td><td></td><td>1</td><td></td></tr><tr><td>Modi</td><td>39</td><td>19</td><td>6</td><td></td><td></td><td></td><td>1</td><td></td><td></td><td>4</td><td></td><td>3526</td><td></td><td></td><td></td><td>11</td><td>24</td><td></td><td>13</td><td></td><td></td><td>2</td><td></td><td>34</td><td></td><td>19</td><td></td><td>15</td><td></td></tr><tr><td>NCoS</td><td></td><td></td><td></td><td></td><td></td><td></td><td></td><td></td><td></td><td></td><td></td><td></td><td>101</td><td></td><td></td><td></td><td></td><td></td><td></td><td></td><td></td><td></td><td></td><td></td><td></td><td></td><td></td><td></td><td></td></tr><tr><td>NCop</td><td>13</td><td>2</td><td>2</td><td></td><td></td><td></td><td></td><td></td><td></td><td></td><td></td><td></td><td></td><td>587</td><td>2</td><td></td><td></td><td></td><td>3</td><td></td><td></td><td></td><td></td><td></td><td></td><td></td><td></td><td></td><td></td></tr><tr><td>Nega</td><td>6</td><td>1</td><td>4</td><td></td><td></td><td></td><td></td><td></td><td></td><td></td><td></td><td>1</td><td></td><td>4</td><td>6039</td><td></td><td></td><td></td><td>1</td><td></td><td></td><td>2</td><td></td><td></td><td>2</td><td>4</td><td></td><td>1</td><td></td></tr><tr><td>Objc</td><td>15</td><td>35</td><td>20</td><td></td><td></td><td></td><td>1</td><td></td><td></td><td>5</td><td></td><td>13</td><td></td><td></td><td></td><td>20672</td><td>22</td><td></td><td>26</td><td>1</td><td></td><td></td><td></td><td>4</td><td>2</td><td>60</td><td></td><td></td><td>3</td></tr><tr><td>PrAd</td><td>1</td><td></td><td></td><td></td><td></td><td></td><td></td><td></td><td></td><td></td><td></td><td>1</td><td></td><td></td><td></td><td></td><td>79</td><td></td><td></td><td>1</td><td></td><td></td><td></td><td></td><td></td><td>2</td><td></td><td></td><td></td></tr><tr><td>PrcS</td><td></td><td></td><td></td><td></td><td></td><td></td><td></td><td></td><td></td><td></td><td></td><td></td><td></td><td></td><td></td><td></td><td></td><td>8</td><td></td><td></td><td></td><td></td><td></td><td></td><td></td><td></td><td></td><td></td><td></td></tr><tr><td>PreC</td><td>36</td><td>41</td><td>7</td><td></td><td></td><td></td><td>11</td><td></td><td></td><td>5</td><td></td><td>4</td><td></td><td></td><td></td><td>35</td><td>12</td><td></td><td>17550</td><td></td><td></td><td>19</td><td></td><td>1</td><td>4</td><td>77</td><td></td><td>2</td><td>8</td></tr><tr><td>PreO</td><td>1</td><td></td><td>4</td><td></td><td></td><td></td><td></td><td></td><td></td><td>1</td><td></td><td></td><td></td><td></td><td></td><td>5</td><td></td><td></td><td></td><td>5434</td><td>76</td><td>1</td><td>1</td><td></td><td></td><td>1</td><td></td><td>2</td><td></td></tr><tr><td>PreS</td><td>1</td><td></td><td></td><td></td><td></td><td></td><td></td><td></td><td></td><td></td><td></td><td></td><td></td><td></td><td></td><td></td><td></td><td></td><td></td><td></td><td>777</td><td></td><td></td><td></td><td></td><td></td><td></td><td>1</td><td></td></tr><tr><td>Pred</td><td>1</td><td>1</td><td>1</td><td></td><td></td><td></td><td></td><td></td><td></td><td></td><td></td><td>1</td><td></td><td></td><td></td><td>4</td><td></td><td></td><td>4</td><td></td><td></td><td>57042</td><td></td><td></td><td></td><td>9</td><td></td><td>13</td><td></td></tr><tr><td>PtcO</td><td></td><td></td><td></td><td></td><td></td><td></td><td></td><td></td><td></td><td></td><td></td><td></td><td></td><td></td><td></td><td>1</td><td></td><td></td><td></td><td></td><td></td><td></td><td>161</td><td></td><td></td><td>4</td><td></td><td></td><td></td></tr><tr><td>Ques</td><td>15</td><td>9</td><td>4</td><td></td><td></td><td></td><td></td><td></td><td></td><td></td><td></td><td></td><td></td><td></td><td></td><td>24</td><td></td><td></td><td>18</td><td></td><td></td><td></td><td></td><td>1156</td><td></td><td>18</td><td></td><td>31</td><td></td></tr><tr><td>Rela</td><td>3</td><td>1</td><td>62</td><td></td><td></td><td></td><td>3</td><td></td><td></td><td>1</td><td></td><td></td><td></td><td></td><td></td><td>7</td><td></td><td></td><td>13</td><td></td><td></td><td></td><td></td><td></td><td>6239</td><td>12</td><td></td><td>1</td><td></td></tr><tr><td>Subj</td><td>15</td><td>12</td><td>3</td><td>5</td><td></td><td></td><td>18</td><td></td><td></td><td>3</td><td></td><td>9</td><td></td><td>1</td><td></td><td>50</td><td>5</td><td></td><td>79</td><td></td><td>1</td><td>4</td><td></td><td>18</td><td></td><td>28763</td><td></td><td>4</td><td>16</td></tr><tr><td>Supp</td><td>60</td><td>49</td><td></td><td></td><td></td><td></td><td></td><td></td><td></td><td></td><td></td><td></td><td></td><td></td><td></td><td>2</td><td></td><td></td><td>2</td><td></td><td></td><td></td><td></td><td></td><td></td><td>3</td><td>180</td><td></td><td></td></tr><tr><td>Time</td><td>2</td><td>1</td><td>8</td><td></td><td></td><td></td><td>1</td><td></td><td></td><td>1</td><td></td><td>40</td><td></td><td></td><td></td><td>2</td><td></td><td></td><td>5</td><td></td><td></td><td>1</td><td></td><td>1</td><td></td><td>6</td><td></td><td>3489</td><td></td></tr><tr><td>Unkn</td><td>1391</td><td>2357</td><td>65</td><td></td><td></td><td></td><td>113</td><td></td><td></td><td>235</td><td></td><td>167</td><td></td><td>2</td><td>1</td><td>2043</td><td>13</td><td></td><td>1840</td><td>1</td><td>2</td><td>3</td><td></td><td>1</td><td>10</td><td>2957</td><td>4</td><td>337</td><td>79</td></tr><tr><td>Voct</td><td></td><td></td><td></td><td></td><td></td><td></td><td>2</td><td></td><td></td><td></td><td></td><td></td><td></td><td></td><td></td><td>2</td><td></td><td></td><td>1</td><td></td><td></td><td></td><td></td><td></td><td></td><td>17</td><td></td><td></td><td>1504</td></tr></table>"
      ],
      "text/plain": [
       "<IPython.core.display.HTML object>"
      ]
     },
     "metadata": {},
     "output_type": "display_data"
    },
    {
     "name": "stdout",
     "output_type": "stream",
     "text": [
      "\n",
      "##############################################################################################\n",
      "#                                                                                            #\n",
      "#      6m 44s Phrase function change from version 4b to 2016                                 #\n",
      "#                                                                                            #\n",
      "##############################################################################################\n",
      "\n"
     ]
    },
    {
     "data": {
      "text/html": [
       "<table><tr><td>4b\\2016</td><td>Adju</td><td>Cmpl</td><td>Conj</td><td>EPPr</td><td>ExsS</td><td>Exst</td><td>Frnt</td><td>IntS</td><td>Intj</td><td>Loca</td><td>ModS</td><td>Modi</td><td>NCoS</td><td>NCop</td><td>Nega</td><td>Objc</td><td>PrAd</td><td>PrcS</td><td>PreC</td><td>PreO</td><td>PreS</td><td>Pred</td><td>PtcO</td><td>Ques</td><td>Rela</td><td>Subj</td><td>Supp</td><td>Time</td><td>Voct</td></tr><tr><td>Adju</td><td>9477</td><td>31</td><td>1</td><td></td><td></td><td></td><td>5</td><td></td><td></td><td>1</td><td></td><td>1</td><td></td><td></td><td>1</td><td>11</td><td>1</td><td></td><td>6</td><td></td><td></td><td></td><td></td><td></td><td>1</td><td>8</td><td>2</td><td>1</td><td></td></tr><tr><td>Cmpl</td><td>39</td><td>29921</td><td>1</td><td></td><td></td><td></td><td>6</td><td></td><td></td><td>8</td><td></td><td>1</td><td></td><td></td><td>2</td><td>41</td><td></td><td></td><td>24</td><td></td><td></td><td></td><td></td><td></td><td></td><td>11</td><td></td><td>7</td><td></td></tr><tr><td>Conj</td><td>1</td><td></td><td>46124</td><td></td><td></td><td></td><td></td><td></td><td></td><td></td><td></td><td></td><td></td><td></td><td></td><td></td><td></td><td></td><td>1</td><td></td><td></td><td></td><td></td><td></td><td>2</td><td>1</td><td></td><td></td><td></td></tr><tr><td>EPPr</td><td></td><td></td><td></td><td>9</td><td></td><td></td><td></td><td></td><td></td><td></td><td></td><td></td><td></td><td></td><td></td><td></td><td></td><td></td><td></td><td></td><td></td><td></td><td></td><td></td><td></td><td></td><td></td><td></td><td></td></tr><tr><td>ExsS</td><td></td><td></td><td></td><td></td><td>14</td><td></td><td></td><td></td><td></td><td></td><td></td><td></td><td></td><td></td><td></td><td></td><td></td><td></td><td></td><td></td><td></td><td></td><td></td><td></td><td></td><td></td><td></td><td></td><td></td></tr><tr><td>Exst</td><td></td><td></td><td></td><td></td><td></td><td>143</td><td></td><td></td><td></td><td></td><td></td><td></td><td></td><td></td><td></td><td></td><td></td><td></td><td></td><td></td><td></td><td></td><td></td><td></td><td></td><td></td><td></td><td></td><td></td></tr><tr><td>Frnt</td><td></td><td></td><td></td><td></td><td></td><td></td><td>1087</td><td></td><td></td><td></td><td></td><td></td><td></td><td></td><td></td><td></td><td></td><td></td><td></td><td></td><td></td><td></td><td></td><td></td><td></td><td>25</td><td></td><td></td><td></td></tr><tr><td>IntS</td><td></td><td></td><td></td><td></td><td></td><td></td><td></td><td>251</td><td></td><td></td><td></td><td></td><td></td><td></td><td></td><td></td><td></td><td></td><td></td><td></td><td></td><td></td><td></td><td></td><td></td><td></td><td></td><td></td><td></td></tr><tr><td>Intj</td><td></td><td></td><td></td><td></td><td></td><td></td><td></td><td></td><td>1621</td><td></td><td></td><td></td><td></td><td></td><td></td><td></td><td></td><td></td><td></td><td></td><td></td><td></td><td></td><td></td><td></td><td></td><td></td><td></td><td></td></tr><tr><td>Loca</td><td>3</td><td>53</td><td></td><td></td><td></td><td></td><td></td><td></td><td></td><td>2613</td><td></td><td></td><td></td><td></td><td>1</td><td>4</td><td></td><td></td><td>2</td><td></td><td></td><td></td><td></td><td></td><td></td><td>4</td><td></td><td></td><td></td></tr><tr><td>ModS</td><td></td><td></td><td></td><td></td><td></td><td></td><td></td><td></td><td></td><td></td><td>35</td><td></td><td></td><td></td><td></td><td></td><td></td><td></td><td></td><td></td><td></td><td></td><td></td><td></td><td></td><td></td><td></td><td></td><td></td></tr><tr><td>Modi</td><td></td><td></td><td>1</td><td></td><td></td><td></td><td></td><td></td><td></td><td></td><td></td><td>3980</td><td></td><td></td><td></td><td>1</td><td></td><td></td><td>3</td><td></td><td></td><td></td><td></td><td></td><td></td><td></td><td></td><td>1</td><td></td></tr><tr><td>NCoS</td><td></td><td></td><td></td><td></td><td></td><td></td><td></td><td></td><td></td><td></td><td></td><td></td><td>101</td><td></td><td></td><td></td><td></td><td></td><td></td><td></td><td></td><td></td><td></td><td></td><td></td><td></td><td></td><td></td><td></td></tr><tr><td>NCop</td><td></td><td></td><td></td><td></td><td></td><td></td><td></td><td></td><td></td><td></td><td></td><td></td><td></td><td>594</td><td>1</td><td></td><td></td><td></td><td></td><td></td><td></td><td></td><td></td><td></td><td></td><td></td><td></td><td></td><td></td></tr><tr><td>Nega</td><td>1</td><td></td><td>1</td><td></td><td></td><td></td><td></td><td></td><td></td><td></td><td></td><td></td><td></td><td>1</td><td>6040</td><td></td><td></td><td></td><td></td><td></td><td></td><td></td><td></td><td></td><td></td><td></td><td></td><td></td><td></td></tr><tr><td>Objc</td><td>7</td><td>24</td><td>10</td><td></td><td></td><td></td><td>4</td><td></td><td></td><td></td><td></td><td>3</td><td></td><td></td><td>2</td><td>22596</td><td>2</td><td></td><td>14</td><td>1</td><td></td><td></td><td></td><td></td><td></td><td>60</td><td></td><td></td><td></td></tr><tr><td>PrAd</td><td></td><td>2</td><td></td><td></td><td></td><td></td><td></td><td></td><td></td><td></td><td></td><td></td><td></td><td></td><td></td><td></td><td>235</td><td></td><td>1</td><td></td><td></td><td></td><td></td><td></td><td></td><td></td><td></td><td></td><td></td></tr><tr><td>PrcS</td><td></td><td></td><td></td><td></td><td></td><td></td><td></td><td></td><td></td><td></td><td></td><td></td><td></td><td></td><td></td><td></td><td></td><td>8</td><td></td><td></td><td></td><td></td><td></td><td></td><td></td><td></td><td></td><td></td><td></td></tr><tr><td>PreC</td><td>15</td><td>5</td><td>1</td><td>1</td><td></td><td></td><td>1</td><td></td><td></td><td>1</td><td></td><td>1</td><td></td><td></td><td></td><td>10</td><td>3</td><td></td><td>19327</td><td></td><td></td><td>1</td><td></td><td></td><td>1</td><td>25</td><td></td><td></td><td></td></tr><tr><td>PreO</td><td></td><td></td><td></td><td></td><td></td><td></td><td></td><td></td><td></td><td></td><td></td><td></td><td></td><td></td><td></td><td></td><td></td><td></td><td>1</td><td>5404</td><td>30</td><td></td><td></td><td></td><td></td><td></td><td></td><td></td><td></td></tr><tr><td>PreS</td><td></td><td>1</td><td></td><td></td><td></td><td></td><td></td><td></td><td></td><td></td><td></td><td></td><td></td><td></td><td></td><td></td><td></td><td></td><td></td><td></td><td>855</td><td></td><td></td><td></td><td></td><td></td><td></td><td>10</td><td></td></tr><tr><td>Pred</td><td></td><td></td><td></td><td></td><td></td><td></td><td></td><td></td><td></td><td></td><td></td><td></td><td></td><td></td><td></td><td></td><td></td><td></td><td>1</td><td></td><td>1</td><td>57068</td><td></td><td></td><td></td><td></td><td></td><td>4</td><td></td></tr><tr><td>PtcO</td><td></td><td></td><td></td><td></td><td></td><td></td><td></td><td></td><td></td><td></td><td></td><td></td><td></td><td></td><td></td><td></td><td></td><td></td><td></td><td></td><td></td><td></td><td>162</td><td></td><td></td><td></td><td></td><td></td><td></td></tr><tr><td>Ques</td><td></td><td></td><td></td><td></td><td></td><td></td><td></td><td></td><td></td><td></td><td></td><td></td><td></td><td></td><td></td><td></td><td></td><td></td><td></td><td></td><td></td><td></td><td></td><td>1204</td><td></td><td></td><td></td><td></td><td></td></tr><tr><td>Rela</td><td></td><td></td><td>3</td><td></td><td></td><td></td><td></td><td></td><td></td><td></td><td></td><td></td><td></td><td></td><td></td><td></td><td></td><td></td><td></td><td></td><td></td><td></td><td></td><td></td><td>6325</td><td>1</td><td></td><td></td><td></td></tr><tr><td>Subj</td><td>3</td><td>1</td><td>1</td><td>11</td><td></td><td></td><td>17</td><td></td><td></td><td>1</td><td></td><td>1</td><td></td><td></td><td></td><td>14</td><td>1</td><td>1</td><td>14</td><td></td><td>1</td><td></td><td></td><td></td><td></td><td>31811</td><td></td><td>1</td><td></td></tr><tr><td>Supp</td><td>2</td><td>9</td><td></td><td></td><td></td><td></td><td></td><td></td><td></td><td></td><td></td><td></td><td></td><td></td><td></td><td></td><td></td><td></td><td></td><td></td><td></td><td></td><td></td><td></td><td></td><td></td><td>176</td><td></td><td></td></tr><tr><td>Time</td><td>1</td><td>1</td><td></td><td></td><td></td><td></td><td>9</td><td></td><td></td><td></td><td></td><td></td><td></td><td></td><td></td><td></td><td></td><td></td><td></td><td></td><td></td><td></td><td></td><td></td><td></td><td></td><td></td><td>3835</td><td></td></tr><tr><td>Voct</td><td></td><td></td><td></td><td></td><td></td><td></td><td></td><td></td><td></td><td></td><td></td><td></td><td></td><td></td><td></td><td>2</td><td></td><td></td><td>2</td><td></td><td></td><td></td><td></td><td></td><td></td><td></td><td></td><td></td><td>1607</td></tr></table>"
      ],
      "text/plain": [
       "<IPython.core.display.HTML object>"
      ]
     },
     "metadata": {},
     "output_type": "display_data"
    },
    {
     "name": "stdout",
     "output_type": "stream",
     "text": [
      "\n",
      "##############################################################################################\n",
      "#                                                                                            #\n",
      "#      6m 45s Phrase function change from version 2016 to 2017                               #\n",
      "#                                                                                            #\n",
      "##############################################################################################\n",
      "\n"
     ]
    },
    {
     "data": {
      "text/html": [
       "<table><tr><td>2016\\2017</td><td>Adju</td><td>Cmpl</td><td>Conj</td><td>EPPr</td><td>ExsS</td><td>Exst</td><td>Frnt</td><td>IntS</td><td>Intj</td><td>Loca</td><td>ModS</td><td>Modi</td><td>NCoS</td><td>NCop</td><td>Nega</td><td>Objc</td><td>PrAd</td><td>PrcS</td><td>PreC</td><td>PreO</td><td>PreS</td><td>Pred</td><td>PtcO</td><td>Ques</td><td>Rela</td><td>Subj</td><td>Supp</td><td>Time</td><td>Voct</td></tr><tr><td>Adju</td><td>9508</td><td>12</td><td>2</td><td></td><td></td><td></td><td>5</td><td></td><td></td><td>2</td><td></td><td></td><td></td><td></td><td></td><td>5</td><td></td><td></td><td>4</td><td></td><td></td><td></td><td></td><td></td><td></td><td>2</td><td></td><td>6</td><td></td></tr><tr><td>Cmpl</td><td>16</td><td>30002</td><td>4</td><td></td><td></td><td></td><td></td><td></td><td></td><td></td><td></td><td></td><td></td><td></td><td></td><td>13</td><td></td><td></td><td>1</td><td></td><td></td><td></td><td></td><td></td><td></td><td>1</td><td></td><td></td><td></td></tr><tr><td>Conj</td><td>1</td><td></td><td>46135</td><td></td><td></td><td></td><td></td><td></td><td></td><td></td><td></td><td></td><td></td><td></td><td></td><td>3</td><td></td><td></td><td></td><td></td><td></td><td></td><td></td><td></td><td>3</td><td>1</td><td></td><td></td><td></td></tr><tr><td>EPPr</td><td></td><td></td><td></td><td>21</td><td></td><td></td><td></td><td></td><td></td><td></td><td></td><td></td><td></td><td></td><td></td><td></td><td></td><td></td><td></td><td></td><td></td><td></td><td></td><td></td><td></td><td></td><td></td><td></td><td></td></tr><tr><td>ExsS</td><td></td><td></td><td></td><td></td><td>14</td><td></td><td></td><td></td><td></td><td></td><td></td><td></td><td></td><td></td><td></td><td></td><td></td><td></td><td></td><td></td><td></td><td></td><td></td><td></td><td></td><td></td><td></td><td></td><td></td></tr><tr><td>Exst</td><td></td><td></td><td></td><td></td><td></td><td>143</td><td></td><td></td><td></td><td></td><td></td><td></td><td></td><td></td><td></td><td></td><td></td><td></td><td></td><td></td><td></td><td></td><td></td><td></td><td></td><td></td><td></td><td></td><td></td></tr><tr><td>Frnt</td><td></td><td>1</td><td></td><td></td><td></td><td></td><td>1119</td><td></td><td></td><td></td><td></td><td></td><td></td><td></td><td></td><td></td><td></td><td></td><td>1</td><td></td><td></td><td></td><td>1</td><td></td><td></td><td>9</td><td></td><td></td><td></td></tr><tr><td>IntS</td><td></td><td></td><td></td><td></td><td></td><td></td><td></td><td>251</td><td></td><td></td><td></td><td></td><td></td><td></td><td></td><td></td><td></td><td></td><td></td><td></td><td></td><td></td><td></td><td></td><td></td><td></td><td></td><td></td><td></td></tr><tr><td>Intj</td><td></td><td></td><td></td><td></td><td></td><td></td><td></td><td></td><td>1621</td><td></td><td></td><td></td><td></td><td></td><td></td><td></td><td></td><td></td><td></td><td></td><td></td><td></td><td></td><td></td><td></td><td></td><td></td><td></td><td></td></tr><tr><td>Loca</td><td>2</td><td></td><td></td><td></td><td></td><td></td><td></td><td></td><td></td><td>2621</td><td></td><td></td><td></td><td></td><td></td><td></td><td></td><td></td><td></td><td></td><td></td><td></td><td></td><td></td><td></td><td></td><td></td><td></td><td></td></tr><tr><td>ModS</td><td></td><td></td><td></td><td></td><td></td><td></td><td></td><td></td><td></td><td></td><td>35</td><td></td><td></td><td></td><td></td><td></td><td></td><td></td><td></td><td></td><td></td><td></td><td></td><td></td><td></td><td></td><td></td><td></td><td></td></tr><tr><td>Modi</td><td></td><td></td><td></td><td></td><td></td><td></td><td></td><td></td><td></td><td></td><td></td><td>3738</td><td></td><td></td><td></td><td></td><td></td><td></td><td>32</td><td></td><td></td><td></td><td></td><td></td><td></td><td></td><td></td><td>216</td><td></td></tr><tr><td>NCoS</td><td></td><td></td><td></td><td></td><td></td><td></td><td></td><td></td><td></td><td></td><td></td><td></td><td>101</td><td></td><td></td><td></td><td></td><td></td><td></td><td></td><td></td><td></td><td></td><td></td><td></td><td></td><td></td><td></td><td></td></tr><tr><td>NCop</td><td></td><td></td><td></td><td></td><td></td><td></td><td></td><td></td><td></td><td></td><td></td><td></td><td></td><td>595</td><td></td><td></td><td></td><td></td><td></td><td></td><td></td><td></td><td></td><td></td><td></td><td></td><td></td><td></td><td></td></tr><tr><td>Nega</td><td></td><td></td><td></td><td></td><td></td><td></td><td></td><td></td><td></td><td></td><td></td><td></td><td></td><td></td><td>6047</td><td></td><td></td><td></td><td></td><td></td><td></td><td></td><td></td><td></td><td></td><td></td><td></td><td></td><td></td></tr><tr><td>Objc</td><td>2</td><td>6</td><td></td><td></td><td></td><td></td><td>5</td><td></td><td></td><td>2</td><td></td><td></td><td></td><td></td><td></td><td>22627</td><td></td><td></td><td>1</td><td></td><td></td><td></td><td></td><td></td><td></td><td>19</td><td></td><td>7</td><td></td></tr><tr><td>PrAd</td><td></td><td></td><td></td><td></td><td></td><td></td><td></td><td></td><td></td><td></td><td></td><td></td><td></td><td></td><td></td><td></td><td>242</td><td></td><td></td><td></td><td></td><td></td><td></td><td></td><td></td><td></td><td></td><td></td><td></td></tr><tr><td>PrcS</td><td></td><td></td><td></td><td></td><td></td><td></td><td></td><td></td><td></td><td></td><td></td><td></td><td></td><td></td><td></td><td></td><td></td><td>8</td><td></td><td></td><td></td><td></td><td></td><td></td><td></td><td></td><td></td><td></td><td></td></tr><tr><td>PreC</td><td>6</td><td>4</td><td></td><td></td><td></td><td></td><td>8</td><td></td><td></td><td>1</td><td></td><td></td><td></td><td></td><td></td><td>2</td><td>1</td><td></td><td>19333</td><td></td><td></td><td>1</td><td></td><td></td><td></td><td>12</td><td></td><td></td><td></td></tr><tr><td>PreO</td><td></td><td></td><td></td><td></td><td></td><td></td><td></td><td></td><td></td><td></td><td></td><td></td><td></td><td></td><td></td><td></td><td></td><td></td><td></td><td>5402</td><td>1</td><td></td><td></td><td></td><td></td><td></td><td></td><td></td><td></td></tr><tr><td>PreS</td><td></td><td></td><td></td><td></td><td></td><td></td><td></td><td></td><td></td><td></td><td></td><td></td><td></td><td></td><td></td><td></td><td></td><td></td><td></td><td></td><td>886</td><td></td><td></td><td></td><td></td><td></td><td></td><td></td><td></td></tr><tr><td>Pred</td><td></td><td></td><td></td><td></td><td></td><td></td><td></td><td></td><td></td><td></td><td></td><td></td><td></td><td></td><td></td><td></td><td></td><td></td><td></td><td></td><td></td><td>57069</td><td></td><td></td><td></td><td></td><td></td><td></td><td></td></tr><tr><td>PtcO</td><td></td><td></td><td></td><td></td><td></td><td></td><td></td><td></td><td></td><td></td><td></td><td></td><td></td><td></td><td></td><td></td><td></td><td></td><td></td><td></td><td></td><td></td><td>162</td><td></td><td></td><td></td><td></td><td></td><td></td></tr><tr><td>Ques</td><td></td><td></td><td></td><td></td><td></td><td></td><td></td><td></td><td></td><td></td><td></td><td></td><td></td><td></td><td></td><td></td><td></td><td></td><td>1</td><td></td><td></td><td></td><td></td><td>1203</td><td></td><td></td><td></td><td></td><td></td></tr><tr><td>Rela</td><td></td><td></td><td>1</td><td></td><td></td><td></td><td>1</td><td></td><td></td><td></td><td></td><td></td><td></td><td></td><td></td><td></td><td></td><td></td><td></td><td></td><td></td><td></td><td></td><td></td><td>6327</td><td></td><td></td><td></td><td></td></tr><tr><td>Subj</td><td>1</td><td>1</td><td>3</td><td></td><td></td><td></td><td>5</td><td></td><td></td><td></td><td></td><td></td><td></td><td></td><td></td><td>19</td><td>3</td><td></td><td>13</td><td>1</td><td></td><td></td><td></td><td></td><td></td><td>31907</td><td></td><td>1</td><td>1</td></tr><tr><td>Supp</td><td></td><td></td><td></td><td></td><td></td><td></td><td></td><td></td><td></td><td></td><td></td><td></td><td></td><td></td><td></td><td></td><td></td><td></td><td></td><td></td><td></td><td></td><td></td><td></td><td></td><td></td><td>178</td><td></td><td></td></tr><tr><td>Time</td><td></td><td></td><td></td><td></td><td></td><td></td><td></td><td></td><td></td><td></td><td></td><td>6</td><td></td><td></td><td></td><td></td><td></td><td></td><td></td><td>1</td><td></td><td></td><td></td><td></td><td></td><td></td><td></td><td>3850</td><td></td></tr><tr><td>Voct</td><td></td><td>1</td><td></td><td></td><td></td><td></td><td></td><td></td><td></td><td></td><td></td><td></td><td></td><td></td><td></td><td></td><td></td><td></td><td></td><td></td><td></td><td></td><td></td><td></td><td></td><td>2</td><td></td><td></td><td>1605</td></tr></table>"
      ],
      "text/plain": [
       "<IPython.core.display.HTML object>"
      ]
     },
     "metadata": {},
     "output_type": "display_data"
    }
   ],
   "source": [
    "for (i, w) in enumerate(versions):\n",
    "    if i == 0: continue\n",
    "    v = versions[i-1]\n",
    "    caption(1, 'Phrase function change from version {} to {}'.format(v, w))\n",
    "    featureDiff(v, w, 'FUNCTION')"
   ]
  },
  {
   "cell_type": "markdown",
   "metadata": {},
   "source": [
    "# Boundary statistics"
   ]
  },
  {
   "cell_type": "code",
   "execution_count": 24,
   "metadata": {
    "scrolled": false
   },
   "outputs": [
    {
     "name": "stdout",
     "output_type": "stream",
     "text": [
      "\n",
      "##############################################################################################\n",
      "#                                                                                            #\n",
      "#     21m 22s Phrase boundary change from version 3 to 4                                     #\n",
      "#                                                                                            #\n",
      "##############################################################################################\n",
      "\n"
     ]
    },
    {
     "data": {
      "text/html": [
       "<table><tr><td>dissimilarity</td><td>number of phrases</td></tr><tr><td>0</td><td>250346</td></tr><tr><td>1</td><td>2909</td></tr><tr><td>2</td><td>1385</td></tr><tr><td>3</td><td>951</td></tr><tr><td>4</td><td>556</td></tr><tr><td>5</td><td>342</td></tr><tr><td>6</td><td>218</td></tr><tr><td>7</td><td>141</td></tr><tr><td>8</td><td>105</td></tr><tr><td>9</td><td>82</td></tr><tr><td>10</td><td>90</td></tr><tr><td>11</td><td>54</td></tr><tr><td>12</td><td>50</td></tr><tr><td>13</td><td>22</td></tr><tr><td>14</td><td>30</td></tr><tr><td>15</td><td>24</td></tr><tr><td>16</td><td>27</td></tr><tr><td>17</td><td>17</td></tr><tr><td>18</td><td>23</td></tr><tr><td>19</td><td>10</td></tr><tr><td>20</td><td>4</td></tr><tr><td>21</td><td>4</td></tr><tr><td>22</td><td></td></tr><tr><td>23</td><td>9</td></tr><tr><td>24</td><td>1</td></tr><tr><td>25</td><td></td></tr><tr><td>26</td><td></td></tr><tr><td>27</td><td></td></tr><tr><td>28</td><td></td></tr><tr><td>29</td><td></td></tr><tr><td>30</td><td>1</td></tr></table>"
      ],
      "text/plain": [
       "<IPython.core.display.HTML object>"
      ]
     },
     "metadata": {},
     "output_type": "display_data"
    },
    {
     "name": "stdout",
     "output_type": "stream",
     "text": [
      "\n",
      "##############################################################################################\n",
      "#                                                                                            #\n",
      "#     21m 22s Phrase boundary change from version 4 to 4b                                    #\n",
      "#                                                                                            #\n",
      "##############################################################################################\n",
      "\n"
     ]
    },
    {
     "data": {
      "text/html": [
       "<table><tr><td>dissimilarity</td><td>number of phrases</td></tr><tr><td>0</td><td>250751</td></tr><tr><td>1</td><td>832</td></tr><tr><td>2</td><td>843</td></tr><tr><td>3</td><td>713</td></tr><tr><td>4</td><td>436</td></tr><tr><td>5</td><td>336</td></tr><tr><td>6</td><td>210</td></tr><tr><td>7</td><td>170</td></tr><tr><td>8</td><td>150</td></tr><tr><td>9</td><td>92</td></tr><tr><td>10</td><td>91</td></tr><tr><td>11</td><td>80</td></tr><tr><td>12</td><td>46</td></tr><tr><td>13</td><td>57</td></tr><tr><td>14</td><td>45</td></tr><tr><td>15</td><td>41</td></tr><tr><td>16</td><td>18</td></tr><tr><td>17</td><td>21</td></tr><tr><td>18</td><td>22</td></tr><tr><td>19</td><td>22</td></tr><tr><td>20</td><td>11</td></tr><tr><td>21</td><td>16</td></tr><tr><td>22</td><td>6</td></tr><tr><td>23</td><td>6</td></tr><tr><td>24</td><td>7</td></tr><tr><td>25</td><td>2</td></tr><tr><td>26</td><td></td></tr><tr><td>27</td><td>8</td></tr><tr><td>28</td><td>2</td></tr><tr><td>29</td><td>6</td></tr><tr><td>30</td><td>3</td></tr><tr><td>31</td><td>6</td></tr><tr><td>32</td><td>1</td></tr><tr><td>33</td><td>4</td></tr><tr><td>34</td><td></td></tr><tr><td>35</td><td>1</td></tr><tr><td>36</td><td>2</td></tr><tr><td>37</td><td>4</td></tr></table>"
      ],
      "text/plain": [
       "<IPython.core.display.HTML object>"
      ]
     },
     "metadata": {},
     "output_type": "display_data"
    },
    {
     "name": "stdout",
     "output_type": "stream",
     "text": [
      "\n",
      "##############################################################################################\n",
      "#                                                                                            #\n",
      "#     21m 22s Phrase boundary change from version 4b to 2016                                 #\n",
      "#                                                                                            #\n",
      "##############################################################################################\n",
      "\n"
     ]
    },
    {
     "data": {
      "text/html": [
       "<table><tr><td>dissimilarity</td><td>number of phrases</td></tr><tr><td>0</td><td>252881</td></tr><tr><td>1</td><td>110</td></tr><tr><td>2</td><td>80</td></tr><tr><td>3</td><td>61</td></tr><tr><td>4</td><td>27</td></tr><tr><td>5</td><td>17</td></tr><tr><td>6</td><td>9</td></tr><tr><td>7</td><td>12</td></tr><tr><td>8</td><td>15</td></tr><tr><td>9</td><td>4</td></tr><tr><td>10</td><td>5</td></tr><tr><td>11</td><td>1</td></tr><tr><td>12</td><td>1</td></tr><tr><td>13</td><td>1</td></tr><tr><td>14</td><td></td></tr><tr><td>15</td><td></td></tr><tr><td>16</td><td>1</td></tr><tr><td>17</td><td></td></tr><tr><td>18</td><td>1</td></tr><tr><td>19</td><td></td></tr><tr><td>20</td><td>1</td></tr></table>"
      ],
      "text/plain": [
       "<IPython.core.display.HTML object>"
      ]
     },
     "metadata": {},
     "output_type": "display_data"
    },
    {
     "name": "stdout",
     "output_type": "stream",
     "text": [
      "\n",
      "##############################################################################################\n",
      "#                                                                                            #\n",
      "#     21m 22s Phrase boundary change from version 2016 to 2017                               #\n",
      "#                                                                                            #\n",
      "##############################################################################################\n",
      "\n"
     ]
    },
    {
     "data": {
      "text/html": [
       "<table><tr><td>dissimilarity</td><td>number of phrases</td></tr><tr><td>0</td><td>253073</td></tr><tr><td>1</td><td>29</td></tr><tr><td>2</td><td>22</td></tr><tr><td>3</td><td>18</td></tr><tr><td>4</td><td>13</td></tr><tr><td>5</td><td>5</td></tr><tr><td>6</td><td>5</td></tr><tr><td>7</td><td>6</td></tr><tr><td>8</td><td>1</td></tr><tr><td>9</td><td>3</td></tr><tr><td>10</td><td>3</td></tr><tr><td>11</td><td>2</td></tr><tr><td>12</td><td>1</td></tr><tr><td>13</td><td>1</td></tr><tr><td>14</td><td>3</td></tr><tr><td>15</td><td>1</td></tr><tr><td>16</td><td>2</td></tr><tr><td>17</td><td></td></tr><tr><td>18</td><td></td></tr><tr><td>19</td><td>2</td></tr><tr><td>20</td><td>2</td></tr><tr><td>21</td><td></td></tr><tr><td>22</td><td></td></tr><tr><td>23</td><td>1</td></tr><tr><td>24</td><td></td></tr><tr><td>25</td><td></td></tr><tr><td>26</td><td>1</td></tr><tr><td>27</td><td></td></tr><tr><td>28</td><td>2</td></tr></table>"
      ],
      "text/plain": [
       "<IPython.core.display.HTML object>"
      ]
     },
     "metadata": {},
     "output_type": "display_data"
    }
   ],
   "source": [
    "for (i, w) in enumerate(versions):\n",
    "    if i == 0: continue\n",
    "    v = versions[i-1]\n",
    "    caption(1, 'Phrase boundary change from version {} to {}'.format(v, w))\n",
    "    showStats(v, w)"
   ]
  },
  {
   "cell_type": "markdown",
   "metadata": {},
   "source": [
    "# Start\n",
    "Start the program here."
   ]
  },
  {
   "cell_type": "code",
   "execution_count": 1,
   "metadata": {},
   "outputs": [],
   "source": [
    "import os,collections\n",
    "from functools import reduce\n",
    "from utils import caption\n",
    "from tf.fabric import Fabric\n",
    "\n",
    "from IPython.display import HTML, display"
   ]
  },
  {
   "cell_type": "markdown",
   "metadata": {},
   "source": [
    "We specify our versions and the subtle differences between them as far as they are relevant."
   ]
  },
  {
   "cell_type": "code",
   "execution_count": 2,
   "metadata": {
    "collapsed": true
   },
   "outputs": [],
   "source": [
    "REPO = os.path.expanduser('~/github/etcbc/bhsa')\n",
    "baseDir = '{}/tf'.format(REPO)\n",
    "tempDir = '{}/_temp'.format(REPO)\n",
    "\n",
    "versions = '''\n",
    "    3 \n",
    "    4 \n",
    "    4b \n",
    "    2016\n",
    "    2017\n",
    "'''.strip().split()\n",
    "\n",
    "versionInfoSpec = {\n",
    "    '': dict(\n",
    "            OCC='g_word',\n",
    "            LEX='lex',\n",
    "            FUNCTION='function',\n",
    "        ),\n",
    "    '3': dict(\n",
    "            OCC='text_plain',\n",
    "            LEX='lexeme',\n",
    "            FUNCTION='phrase_function',\n",
    "        ),\n",
    "}\n",
    "\n",
    "versionInfo = {}\n",
    "\n",
    "defaults = versionInfoSpec[''].items()\n",
    "\n",
    "for (i, v) in enumerate(versions):\n",
    "    versionInfo.setdefault(v, {})['OMAP'] = '' if i == 0 else 'omap@{}-{}'.format(versions[i-1], v)\n",
    "    versionInfo[v].update(versionInfoSpec.get('', {}))\n",
    "    versionInfo[v].update(versionInfoSpec.get(v, {}))"
   ]
  },
  {
   "cell_type": "markdown",
   "metadata": {},
   "source": [
    "Load all versions in one go, with the version mapping feature if present."
   ]
  },
  {
   "cell_type": "code",
   "execution_count": 3,
   "metadata": {},
   "outputs": [
    {
     "name": "stdout",
     "output_type": "stream",
     "text": [
      "..............................................................................................\n",
      ".       0.00s Version -> 3 <- loading ...                                                    .\n",
      "..............................................................................................\n",
      "This is Text-Fabric 3.0.8\n",
      "Api reference : https://github.com/Dans-labs/text-fabric/wiki/Api\n",
      "Tutorial      : https://github.com/Dans-labs/text-fabric/blob/master/docs/tutorial.ipynb\n",
      "Example data  : https://github.com/Dans-labs/text-fabric-data\n",
      "\n",
      "118 features found and 0 ignored\n",
      "  0.00s loading features ...\n",
      "   |     0.12s B lexeme               from /Users/dirk/github/etcbc/bhsa/tf/3\n",
      "   |     0.17s B text_plain           from /Users/dirk/github/etcbc/bhsa/tf/3\n",
      "   |     0.08s B phrase_function      from /Users/dirk/github/etcbc/bhsa/tf/3\n",
      "   |     0.00s Feature overview: 115 for nodes; 2 for edges; 1 configs; 7 computed\n",
      "  4.79s All features loaded/computed - for details use loadLog()\n",
      "..............................................................................................\n",
      ".       4.81s Version -> 4 <- loading ...                                                    .\n",
      "..............................................................................................\n",
      "This is Text-Fabric 3.0.8\n",
      "Api reference : https://github.com/Dans-labs/text-fabric/wiki/Api\n",
      "Tutorial      : https://github.com/Dans-labs/text-fabric/blob/master/docs/tutorial.ipynb\n",
      "Example data  : https://github.com/Dans-labs/text-fabric-data\n",
      "\n",
      "104 features found and 0 ignored\n",
      "  0.00s loading features ...\n",
      "   |     0.26s B g_word               from /Users/dirk/github/etcbc/bhsa/tf/4\n",
      "   |     0.12s B lex                  from /Users/dirk/github/etcbc/bhsa/tf/4\n",
      "   |     0.07s B function             from /Users/dirk/github/etcbc/bhsa/tf/4\n",
      "   |     0.67s B omap@3-4             from /Users/dirk/github/etcbc/bhsa/tf/4\n",
      "   |     0.00s Feature overview: 98 for nodes; 5 for edges; 1 configs; 7 computed\n",
      "  6.36s All features loaded/computed - for details use loadLog()\n",
      "..............................................................................................\n",
      ".         11s Version -> 4b <- loading ...                                                   .\n",
      "..............................................................................................\n",
      "This is Text-Fabric 3.0.8\n",
      "Api reference : https://github.com/Dans-labs/text-fabric/wiki/Api\n",
      "Tutorial      : https://github.com/Dans-labs/text-fabric/blob/master/docs/tutorial.ipynb\n",
      "Example data  : https://github.com/Dans-labs/text-fabric-data\n",
      "\n",
      "103 features found and 0 ignored\n",
      "  0.00s loading features ...\n",
      "   |     0.15s B g_word               from /Users/dirk/github/etcbc/bhsa/tf/4b\n",
      "   |     0.12s B lex                  from /Users/dirk/github/etcbc/bhsa/tf/4b\n",
      "   |     0.08s B function             from /Users/dirk/github/etcbc/bhsa/tf/4b\n",
      "   |     0.79s B omap@4-4b            from /Users/dirk/github/etcbc/bhsa/tf/4b\n",
      "   |     0.00s Feature overview: 97 for nodes; 5 for edges; 1 configs; 7 computed\n",
      "  7.06s All features loaded/computed - for details use loadLog()\n",
      "..............................................................................................\n",
      ".         18s Version -> 2016 <- loading ...                                                 .\n",
      "..............................................................................................\n",
      "This is Text-Fabric 3.0.8\n",
      "Api reference : https://github.com/Dans-labs/text-fabric/wiki/Api\n",
      "Tutorial      : https://github.com/Dans-labs/text-fabric/blob/master/docs/tutorial.ipynb\n",
      "Example data  : https://github.com/Dans-labs/text-fabric-data\n",
      "\n",
      "108 features found and 0 ignored\n",
      "  0.00s loading features ...\n",
      "   |     0.31s B g_word               from /Users/dirk/github/etcbc/bhsa/tf/2016\n",
      "   |     0.15s B lex                  from /Users/dirk/github/etcbc/bhsa/tf/2016\n",
      "   |     0.12s B function             from /Users/dirk/github/etcbc/bhsa/tf/2016\n",
      "   |     1.20s B omap@4b-2016         from /Users/dirk/github/etcbc/bhsa/tf/2016\n",
      "   |     0.00s Feature overview: 102 for nodes; 5 for edges; 1 configs; 7 computed\n",
      "  8.27s All features loaded/computed - for details use loadLog()\n",
      "..............................................................................................\n",
      ".         27s Version -> 2017 <- loading ...                                                 .\n",
      "..............................................................................................\n",
      "This is Text-Fabric 3.0.8\n",
      "Api reference : https://github.com/Dans-labs/text-fabric/wiki/Api\n",
      "Tutorial      : https://github.com/Dans-labs/text-fabric/blob/master/docs/tutorial.ipynb\n",
      "Example data  : https://github.com/Dans-labs/text-fabric-data\n",
      "\n",
      "114 features found and 0 ignored\n",
      "  0.00s loading features ...\n",
      "   |     0.18s B g_word               from /Users/dirk/github/etcbc/bhsa/tf/2017\n",
      "   |     0.16s B lex                  from /Users/dirk/github/etcbc/bhsa/tf/2017\n",
      "   |     0.12s B function             from /Users/dirk/github/etcbc/bhsa/tf/2017\n",
      "   |     1.00s B omap@2016-2017       from /Users/dirk/github/etcbc/bhsa/tf/2017\n",
      "   |     0.00s Feature overview: 108 for nodes; 5 for edges; 1 configs; 7 computed\n",
      "  8.92s All features loaded/computed - for details use loadLog()\n"
     ]
    }
   ],
   "source": [
    "TF = {}\n",
    "api = {}\n",
    "for (i, v) in enumerate(versions):\n",
    "    for (param, value) in versionInfo[v].items():\n",
    "        globals()[param] = value\n",
    "    caption(4, 'Version -> {} <- loading ...'.format(v))\n",
    "    TF[v] = Fabric(locations='{}/{}'.format(baseDir, v), modules=[''])\n",
    "    api[v] = TF[v].load(' '.join((OCC, LEX, FUNCTION, OMAP)))"
   ]
  },
  {
   "cell_type": "markdown",
   "metadata": {},
   "source": [
    "# Utility function: tables in your cells"
   ]
  },
  {
   "cell_type": "code",
   "execution_count": null,
   "metadata": {
    "collapsed": true
   },
   "outputs": [],
   "source": [
    "def tableText(table):\n",
    "    return display(HTML(\n",
    "        '<table><tr>{}</tr></table>'.format(\n",
    "            '</tr><tr>'.join(\n",
    "                '<td>{}</td>'.format('</td><td>'.join(str(_) for _ in row)) for row in table)\n",
    "            )\n",
    "     ))"
   ]
  },
  {
   "cell_type": "markdown",
   "metadata": {},
   "source": [
    "# Get counterparts\n",
    "\n",
    "Here is a function that gets the counterparts of phrases between versions, and classifies them according to dissimilarity.\n",
    "\n",
    "`phraseMapping` is keyed by a (source version, target verison) pair,\n",
    "then by dissimilarity, then by node in source version, and then\n",
    "the value is a node in the target version.\n",
    "\n",
    "Source nodes that lack a counterpart, end up in a bucket with dissimilarity -1."
   ]
  },
  {
   "cell_type": "code",
   "execution_count": 4,
   "metadata": {
    "collapsed": true
   },
   "outputs": [],
   "source": [
    "phraseMapping = {}"
   ]
  },
  {
   "cell_type": "code",
   "execution_count": 5,
   "metadata": {
    "collapsed": true
   },
   "outputs": [],
   "source": [
    "def getPhrases(v, w):\n",
    "    V = api[v]\n",
    "    W = api[w]\n",
    "    mapVW = 'omap@{}-{}'.format(v, w)\n",
    "    vKey = (v, w)\n",
    "    \n",
    "    phraseMapping[vKey] = {}\n",
    "    phrases = phraseMapping[vKey]\n",
    "    \n",
    "    for v in V.F.otype.s('phrase'):\n",
    "        ws = W.Es(mapVW).f(v)\n",
    "        if ws == None:\n",
    "            phrases.setdefault(-1, set()).add(v)\n",
    "        else:\n",
    "            for (w, dis) in ws:\n",
    "                phrases.setdefault(0 if dis == None else dis, {}).setdefault(v, set()).add(w)"
   ]
  },
  {
   "cell_type": "markdown",
   "metadata": {},
   "source": [
    "# Table of boundary changes"
   ]
  },
  {
   "cell_type": "code",
   "execution_count": 22,
   "metadata": {},
   "outputs": [],
   "source": [
    "def showStats(v, w):\n",
    "    vKey = (v, w)\n",
    "    phrases = phraseMapping[vKey]\n",
    "    stats = collections.Counter()\n",
    "    for dis in phrases:\n",
    "        stats[dis] = len(phrases[dis])\n",
    "    table = []\n",
    "    table.append(['dissimilarity', 'number of phrases'])\n",
    "    for dis in range(0, max(stats) + 1):\n",
    "        table.append([dis, stats.get(dis, '')])\n",
    "    tableText(table)"
   ]
  },
  {
   "cell_type": "markdown",
   "metadata": {
    "collapsed": true
   },
   "source": [
    "# Table of old and new values\n",
    "We visualise the changes in the values of the `function` feature,\n",
    "by generating a matrix, with old values in the row headers\n",
    "and new values in the column headers, and the number of times that this old feature has changed into that new\n",
    "feature in the corresponding matrix cells."
   ]
  },
  {
   "cell_type": "code",
   "execution_count": 7,
   "metadata": {},
   "outputs": [],
   "source": [
    "def featureDiff(v, w, feat):\n",
    "    V = api[v]\n",
    "    W = api[w]\n",
    "    vKey = (v, w)\n",
    "    vFeat = versionInfo[v][feat]\n",
    "    wFeat = versionInfo[w][feat]\n",
    "    phrases = phraseMapping[vKey]\n",
    "\n",
    "    combis = {}\n",
    "    for (dis, mapping) in phrases.items():\n",
    "        for (n, ms) in mapping.items():\n",
    "            vVal = V.Fs(vFeat).v(n)\n",
    "            for m in ms:\n",
    "                wVal = W.Fs(wFeat).v(m)\n",
    "                combis.setdefault(vVal, collections.Counter())[wVal] += 1\n",
    "    vValues = sorted(combis.keys())\n",
    "    wValues = sorted(reduce(set.union, [set(combis[v]) for v in vValues], set()))\n",
    "    #print('{} {}'.format('V', ' '.join(vValues)))\n",
    "    #print('{} {}'.format('W', ' '.join(wValues)))\n",
    "    table = []\n",
    "    table.append(['{}\\\\{}'.format(v, w)] + wValues)\n",
    "    for v in vValues:\n",
    "        table.append([v] + [str(combis[v].get(w, '')) for w in wValues])\n",
    "    tableText(table)   "
   ]
  },
  {
   "cell_type": "markdown",
   "metadata": {},
   "source": [
    "# Collect\n",
    "We collect all data in a big data structure."
   ]
  },
  {
   "cell_type": "code",
   "execution_count": 9,
   "metadata": {},
   "outputs": [
    {
     "name": "stdout",
     "output_type": "stream",
     "text": [
      "..............................................................................................\n",
      ".      5m 49s Collecting data                                                                .\n",
      "..............................................................................................\n",
      "|      5m 49s \t3    => 4   \n",
      "|      5m 51s \t4    => 4b  \n",
      "|      5m 52s \t4b   => 2016\n",
      "|      5m 54s \t2016 => 2017\n",
      "|      5m 55s Done\n"
     ]
    }
   ],
   "source": [
    "caption(4, 'Collecting data')\n",
    "for (i, w) in enumerate(versions):\n",
    "    if i == 0: continue\n",
    "    v = versions[i-1]\n",
    "    caption(0, '\\t{:<4} => {:<4}'.format(v, w))\n",
    "    getPhrases(v, w)\n",
    "caption(0, 'Done')"
   ]
  },
  {
   "cell_type": "code",
   "execution_count": null,
   "metadata": {
    "collapsed": true
   },
   "outputs": [],
   "source": []
  }
 ],
 "metadata": {
  "kernelspec": {
   "display_name": "Python 3",
   "language": "python",
   "name": "python3"
  },
  "language_info": {
   "codemirror_mode": {
    "name": "ipython",
    "version": 3
   },
   "file_extension": ".py",
   "mimetype": "text/x-python",
   "name": "python",
   "nbconvert_exporter": "python",
   "pygments_lexer": "ipython3",
   "version": "3.6.2"
  }
 },
 "nbformat": 4,
 "nbformat_minor": 2
}
