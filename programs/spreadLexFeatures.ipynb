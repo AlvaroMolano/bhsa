{
 "cells": [
  {
   "cell_type": "markdown",
   "metadata": {},
   "source": [
    "This notebook looks for all features on lexeme nodes and spread their values over all its occurences, if it is not already done."
   ]
  },
  {
   "cell_type": "code",
   "execution_count": 1,
   "metadata": {},
   "outputs": [],
   "source": [
    "import os\n",
    "import collections\n",
    "\n",
    "from tf.fabric import Fabric"
   ]
  },
  {
   "cell_type": "code",
   "execution_count": 2,
   "metadata": {},
   "outputs": [],
   "source": [
    "BASE = os.path.expanduser('~/github')\n",
    "ORG = 'etcbc'\n",
    "REPO = 'bhsa'\n",
    "VERSION = 'c'\n",
    "\n",
    "REPO_PATH = f'{BASE}/{ORG}/{REPO}'\n",
    "TF_IN = f'{REPO_PATH}/tf/{VERSION}'\n",
    "TF_OUT = f'{REPO_PATH}/_temp/lex/{VERSION}'"
   ]
  },
  {
   "cell_type": "code",
   "execution_count": 7,
   "metadata": {},
   "outputs": [],
   "source": [
    "lexFeatures = '''\n",
    "  gloss\n",
    "  nametype\n",
    "  voc_lex\n",
    "  voc_lex_utf8\n",
    "'''.strip().split()"
   ]
  },
  {
   "cell_type": "code",
   "execution_count": 16,
   "metadata": {},
   "outputs": [],
   "source": [
    "generic = dict(\n",
    "  author='Eep Talstra Centre for Bible and Computer',\n",
    "  dataset='BHSA',\n",
    "  datasetName='Biblia Hebraica Stuttgartensia Amstelodamensis',\n",
    "  email='shebanq@ancient-data.org',\n",
    "  encoders='Constantijn Sikkel (QDF), and Dirk Roorda (TF)',\n",
    "  version='c',\n",
    "  website='https://shebanq.ancient-data.org',\n",
    ")"
   ]
  },
  {
   "cell_type": "code",
   "execution_count": 17,
   "metadata": {},
   "outputs": [],
   "source": [
    "featureMeta = {feat: dict(valueType='str') for feat in lexFeatures}"
   ]
  },
  {
   "cell_type": "code",
   "execution_count": 18,
   "metadata": {},
   "outputs": [
    {
     "data": {
      "text/plain": [
       "{'': {'author': 'Eep Talstra Centre for Bible and Computer',\n",
       "  'dataset': 'BHSA',\n",
       "  'datasetName': 'Biblia Hebraica Stuttgartensia Amstelodamensis',\n",
       "  'email': 'shebanq@ancient-data.org',\n",
       "  'encoders': 'Constantijn Sikkel (QDF), and Dirk Roorda (TF)',\n",
       "  'version': 'c',\n",
       "  'website': 'https://shebanq.ancient-data.org'},\n",
       " 'gloss': {'valueType': 'str'},\n",
       " 'nametype': {'valueType': 'str'},\n",
       " 'voc_lex': {'valueType': 'str'},\n",
       " 'voc_lex_utf8': {'valueType': 'str'}}"
      ]
     },
     "execution_count": 18,
     "metadata": {},
     "output_type": "execute_result"
    }
   ],
   "source": [
    "metaData = {'': generic}\n",
    "metaData.update(featureMeta)\n",
    "metaData"
   ]
  },
  {
   "cell_type": "code",
   "execution_count": 19,
   "metadata": {},
   "outputs": [
    {
     "name": "stdout",
     "output_type": "stream",
     "text": [
      "This is Text-Fabric 7.4.4\n",
      "Api reference : https://annotation.github.io/text-fabric/Api/Fabric/\n",
      "\n",
      "114 features found and 0 ignored\n"
     ]
    }
   ],
   "source": [
    "TFin = Fabric(locations=TF_IN)"
   ]
  },
  {
   "cell_type": "code",
   "execution_count": 20,
   "metadata": {},
   "outputs": [
    {
     "name": "stdout",
     "output_type": "stream",
     "text": [
      "  0.00s loading features ...\n",
      "   |     0.01s B voc_lex_utf8         from /Users/dirk/github/etcbc/bhsa/tf/c\n",
      "   |     0.01s B gloss                from /Users/dirk/github/etcbc/bhsa/tf/c\n",
      "   |     0.00s B nametype             from /Users/dirk/github/etcbc/bhsa/tf/c\n",
      "   |     0.01s B voc_lex              from /Users/dirk/github/etcbc/bhsa/tf/c\n",
      "  3.58s All features loaded/computed - for details use loadLog()\n"
     ]
    },
    {
     "data": {
      "text/plain": [
       "[('Computed',\n",
       "  'computed-data',\n",
       "  ('C Computed', 'Call AllComputeds', 'Cs ComputedString')),\n",
       " ('Features', 'edge-features', ('E Edge', 'Eall AllEdges', 'Es EdgeString')),\n",
       " ('Fabric', 'loading', ('ensureLoaded', 'TF', 'ignored', 'loadLog')),\n",
       " ('Locality', 'locality', ('L Locality',)),\n",
       " ('Misc', 'messaging', ('cache', 'error', 'indent', 'info', 'reset')),\n",
       " ('Nodes',\n",
       "  'navigating-nodes',\n",
       "  ('N Nodes', 'sortKey', 'sortKeyTuple', 'otypeRank', 'sortNodes')),\n",
       " ('Features',\n",
       "  'node-features',\n",
       "  ('F Feature', 'Fall AllFeatures', 'Fs FeatureString')),\n",
       " ('Search', 'search', ('S Search',)),\n",
       " ('Text', 'text', ('T Text',))]"
      ]
     },
     "execution_count": 20,
     "metadata": {},
     "output_type": "execute_result"
    }
   ],
   "source": [
    "api = TFin.load(lexFeatures)\n",
    "api.makeAvailableIn(globals())"
   ]
  },
  {
   "cell_type": "code",
   "execution_count": 24,
   "metadata": {},
   "outputs": [
    {
     "name": "stdout",
     "output_type": "stream",
     "text": [
      "gloss ...\n",
      "nametype ...\n",
      "voc_lex ...\n",
      "voc_lex_utf8 ...\n"
     ]
    }
   ],
   "source": [
    "nodeFeatures = collections.defaultdict(dict)\n",
    "\n",
    "for feat in lexFeatures:\n",
    "  print(f'{feat} ...')\n",
    "  for lx in F.otype.s('lex'):\n",
    "    value = Fs(feat).v(lx)\n",
    "    if value is not None:\n",
    "      for w in L.d(lx, otype='word'):\n",
    "        nodeFeatures[feat][w] = value\n",
    "      nodeFeatures[feat][lx] = value"
   ]
  },
  {
   "cell_type": "code",
   "execution_count": 25,
   "metadata": {},
   "outputs": [
    {
     "name": "stdout",
     "output_type": "stream",
     "text": [
      "This is Text-Fabric 7.4.4\n",
      "Api reference : https://annotation.github.io/text-fabric/Api/Fabric/\n",
      "\n",
      "0 features found and 0 ignored\n"
     ]
    },
    {
     "name": "stderr",
     "output_type": "stream",
     "text": [
      "  0.00s Warp feature \"otype\" not found in\n",
      "/Users/dirk/github/etcbc/bhsa/_temp/lex/c/\n",
      "  0.00s Warp feature \"oslots\" not found in\n",
      "/Users/dirk/github/etcbc/bhsa/_temp/lex/c/\n"
     ]
    },
    {
     "name": "stdout",
     "output_type": "stream",
     "text": [
      "  0.00s Warp feature \"otext\" not found. Working without Text-API\n",
      "\n"
     ]
    }
   ],
   "source": [
    "TFout = Fabric(locations=TF_OUT)"
   ]
  },
  {
   "cell_type": "code",
   "execution_count": 27,
   "metadata": {},
   "outputs": [
    {
     "name": "stdout",
     "output_type": "stream",
     "text": [
      "  0.00s Exporting 4 node and 0 edge and 0 config features to /Users/dirk/github/etcbc/bhsa/_temp/lex/c:\n",
      "   |     0.56s T gloss                to /Users/dirk/github/etcbc/bhsa/_temp/lex/c\n",
      "   |     0.05s T nametype             to /Users/dirk/github/etcbc/bhsa/_temp/lex/c\n",
      "   |     0.51s T voc_lex              to /Users/dirk/github/etcbc/bhsa/_temp/lex/c\n",
      "   |     0.56s T voc_lex_utf8         to /Users/dirk/github/etcbc/bhsa/_temp/lex/c\n",
      "  1.69s Exported 4 node features and 0 edge features and 0 config features to /Users/dirk/github/etcbc/bhsa/_temp/lex/c\n"
     ]
    },
    {
     "data": {
      "text/plain": [
       "True"
      ]
     },
     "execution_count": 27,
     "metadata": {},
     "output_type": "execute_result"
    }
   ],
   "source": [
    "TFout.save(nodeFeatures=nodeFeatures, edgeFeatures={}, metaData=metaData)"
   ]
  },
  {
   "cell_type": "code",
   "execution_count": null,
   "metadata": {},
   "outputs": [],
   "source": []
  }
 ],
 "metadata": {
  "kernelspec": {
   "display_name": "Python 3",
   "language": "python",
   "name": "python3"
  },
  "language_info": {
   "codemirror_mode": {
    "name": "ipython",
    "version": 3
   },
   "file_extension": ".py",
   "mimetype": "text/x-python",
   "name": "python",
   "nbconvert_exporter": "python",
   "pygments_lexer": "ipython3",
   "version": "3.7.2"
  }
 },
 "nbformat": 4,
 "nbformat_minor": 2
}
